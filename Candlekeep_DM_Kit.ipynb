{
 "cells": [
  {
   "cell_type": "markdown",
   "id": "7b035602",
   "metadata": {},
   "source": [
    "# 🕯️ Candlekeep — Dungeon Master (DM) Kit Notebook for Forgotten Realms using LangChain\n",
    "\n",
    "This is a notebook to run the end‑to‑end demo for the Candlekeep DM Kit Forgotten Realms helper.\n",
    "- Contains a local gazetteer + BM25\n",
    "- RAG ingestion (web → chunks → embeddings → Chroma) with citations\n",
    "- SQLite rules DB for items, spells, and monsters\n",
    "- DM-prep help for the quest, NPC, encounter, and treasure/rewards"
   ]
  },
  {
   "cell_type": "markdown",
   "id": "9d28c16e",
   "metadata": {},
   "source": [
    "## Install dependencies (as needed)"
   ]
  },
  {
   "cell_type": "code",
   "execution_count": 2,
   "id": "aaf610b6-33f6-416e-a773-6c1bb35a1913",
   "metadata": {
    "collapsed": true,
    "jupyter": {
     "outputs_hidden": true
    },
    "scrolled": true
   },
   "outputs": [
    {
     "name": "stdout",
     "output_type": "stream",
     "text": [
      "Collecting keras\n",
      "  Downloading keras-3.11.3-py3-none-any.whl.metadata (5.9 kB)\n",
      "Requirement already satisfied: absl-py in /opt/anaconda3/lib/python3.12/site-packages (from keras) (2.2.2)\n",
      "Requirement already satisfied: numpy in /opt/anaconda3/lib/python3.12/site-packages (from keras) (1.26.4)\n",
      "Requirement already satisfied: rich in /opt/anaconda3/lib/python3.12/site-packages (from keras) (13.7.1)\n",
      "Requirement already satisfied: namex in /opt/anaconda3/lib/python3.12/site-packages (from keras) (0.0.9)\n",
      "Requirement already satisfied: h5py in /opt/anaconda3/lib/python3.12/site-packages (from keras) (3.14.0)\n",
      "Requirement already satisfied: optree in /opt/anaconda3/lib/python3.12/site-packages (from keras) (0.15.0)\n",
      "Requirement already satisfied: ml-dtypes in /opt/anaconda3/lib/python3.12/site-packages (from keras) (0.5.1)\n",
      "Requirement already satisfied: packaging in /opt/anaconda3/lib/python3.12/site-packages (from keras) (24.1)\n",
      "Requirement already satisfied: typing-extensions>=4.5.0 in /opt/anaconda3/lib/python3.12/site-packages (from optree->keras) (4.15.0)\n",
      "Requirement already satisfied: markdown-it-py>=2.2.0 in /opt/anaconda3/lib/python3.12/site-packages (from rich->keras) (2.2.0)\n",
      "Requirement already satisfied: pygments<3.0.0,>=2.13.0 in /opt/anaconda3/lib/python3.12/site-packages (from rich->keras) (2.15.1)\n",
      "Requirement already satisfied: mdurl~=0.1 in /opt/anaconda3/lib/python3.12/site-packages (from markdown-it-py>=2.2.0->rich->keras) (0.1.0)\n",
      "Downloading keras-3.11.3-py3-none-any.whl (1.4 MB)\n",
      "\u001b[2K   \u001b[90m━━━━━━━━━━━━━━━━━━━━━━━━━━━━━━━━━━━━━━━━\u001b[0m \u001b[32m1.4/1.4 MB\u001b[0m \u001b[31m11.4 MB/s\u001b[0m eta \u001b[36m0:00:00\u001b[0m\n",
      "\u001b[?25hInstalling collected packages: keras\n",
      "Successfully installed keras-3.11.3\n",
      "Note: you may need to restart the kernel to use updated packages.\n"
     ]
    }
   ],
   "source": [
    "pip install keras"
   ]
  },
  {
   "cell_type": "code",
   "execution_count": 22,
   "id": "d37a3f55",
   "metadata": {},
   "outputs": [
    {
     "name": "stdout",
     "output_type": "stream",
     "text": [
      "Note: you may need to restart the kernel to use updated packages.\n"
     ]
    }
   ],
   "source": [
    "pip -q install langchain langchain-community chromadb sentence-transformers beautifulsoup4 lxml requests rank-bm25 pandas tabulate pydantic rich sqlite-utils"
   ]
  },
  {
   "cell_type": "markdown",
   "id": "284b88b3-db9c-4e5c-8d40-3dae46ac0e63",
   "metadata": {},
   "source": [
    "## RAG URL Allow List"
   ]
  },
  {
   "cell_type": "code",
   "execution_count": 80,
   "id": "05ae64a5-4c25-4e85-a833-7f6dc4fe7980",
   "metadata": {},
   "outputs": [
    {
     "name": "stdout",
     "output_type": "stream",
     "text": [
      "Vector RAG URLs: 5\n"
     ]
    }
   ],
   "source": [
    "USE_VECTOR_RAG = True\n",
    "SAFE_URLS = [\n",
    "    'https://en.wikipedia.org/wiki/Waterdeep',\n",
    "    'https://en.wikipedia.org/wiki/Baldur%27s_Gate',\n",
    "    'https://en.wikipedia.org/wiki/Forgotten_Realms',\n",
    "    'https://forgottenrealms.fandom.com/wiki/Harpers',\n",
    "    'https://forgottenrealms.fandom.com/wiki/History_of_Waterdeep',\n",
    "    'https://www.dndbeyond.com/classes?srsltid=AfmBOor2dDwPFSfeOnvG8YlbwNsadKZ7CSOT9gGg8Z6JwZgMPzXSCseZ',\n",
    "]\n",
    "print('Vector RAG URLs:', len(SAFE_URLS))"
   ]
  },
  {
   "cell_type": "markdown",
   "id": "76f2323b",
   "metadata": {},
   "source": [
    "## Imports and Path Configuration"
   ]
  },
  {
   "cell_type": "code",
   "execution_count": 81,
   "id": "cc5e11a1",
   "metadata": {},
   "outputs": [
    {
     "data": {
      "text/html": [
       "<pre style=\"white-space:pre;overflow-x:auto;line-height:normal;font-family:Menlo,'DejaVu Sans Mono',consolas,'Courier New',monospace\">╭───────────────────── Paths ──────────────────────╮\n",
       "│ Data dir: /Users/tywolfe/Downloads/data          │\n",
       "│ DB: /Users/tywolfe/Downloads/db/fr_rules.sqlite  │\n",
       "│ Index dir: /Users/tywolfe/Downloads/index/chroma │\n",
       "╰──────────────────────────────────────────────────╯\n",
       "</pre>\n"
      ],
      "text/plain": [
       "╭───────────────────── Paths ──────────────────────╮\n",
       "│ Data dir: /Users/tywolfe/Downloads/data          │\n",
       "│ DB: /Users/tywolfe/Downloads/db/fr_rules.sqlite  │\n",
       "│ Index dir: /Users/tywolfe/Downloads/index/chroma │\n",
       "╰──────────────────────────────────────────────────╯\n"
      ]
     },
     "metadata": {},
     "output_type": "display_data"
    }
   ],
   "source": [
    "import os, sqlite3, textwrap, random, json, shutil\n",
    "from pathlib import Path\n",
    "from typing import List, Dict, Any\n",
    "\n",
    "import pandas as pd\n",
    "from tabulate import tabulate\n",
    "from rich import print as rprint\n",
    "from rich.panel import Panel\n",
    "\n",
    "from rank_bm25 import BM25Okapi\n",
    "\n",
    "try:\n",
    "    from langchain_community.document_loaders import WebBaseLoader\n",
    "    from langchain_text_splitters import RecursiveCharacterTextSplitter\n",
    "    from langchain_community.vectorstores import Chroma\n",
    "    from langchain_community.embeddings import HuggingFaceEmbeddings\n",
    "    from langchain_community.retrievers import BM25Retriever as LCBM25\n",
    "    LC_OK = True\n",
    "except Exception:\n",
    "    WebBaseLoader = None\n",
    "    RecursiveCharacterTextSplitter = None\n",
    "    Chroma = None\n",
    "    HuggingFaceEmbeddings = None\n",
    "    LCBM25 = None\n",
    "    LC_OK = False\n",
    "\n",
    "from rich.console import Console\n",
    "from rich.markdown import Markdown\n",
    "from rich.panel import Panel\n",
    "from rich.text import Text\n",
    "\n",
    "console = Console()\n",
    "\n",
    "BASE = Path.cwd()\n",
    "DATA_DIR = BASE / 'data'\n",
    "LORE_DIR = DATA_DIR / 'lore'\n",
    "RULES_DIR = DATA_DIR / 'rules'\n",
    "DB_DIR = BASE / 'db'\n",
    "INDEX_DIR = BASE / 'index' / 'chroma'\n",
    "for p in (DB_DIR, DATA_DIR, LORE_DIR, RULES_DIR, INDEX_DIR.parent):\n",
    "    p.mkdir(parents=True, exist_ok=True)\n",
    "\n",
    "SQLITE_PATH = DB_DIR / 'fr_rules.sqlite'\n",
    "random.seed(42)\n",
    "rprint(Panel.fit(f'Data dir: {DATA_DIR}\\nDB: {SQLITE_PATH}\\nIndex dir: {INDEX_DIR}', title='Paths'))"
   ]
  },
  {
   "cell_type": "markdown",
   "id": "2020e2bd",
   "metadata": {},
   "source": [
    "## Initial Lore Corpus"
   ]
  },
  {
   "cell_type": "code",
   "execution_count": 82,
   "id": "ca7f6d00",
   "metadata": {},
   "outputs": [
    {
     "data": {
      "text/html": [
       "<pre style=\"white-space:pre;overflow-x:auto;line-height:normal;font-family:Menlo,'DejaVu Sans Mono',consolas,'Courier New',monospace\">╭───── Gazetteer ─────╮\n",
       "│ Local lore files: 5 │\n",
       "╰─────────────────────╯\n",
       "</pre>\n"
      ],
      "text/plain": [
       "╭───── Gazetteer ─────╮\n",
       "│ Local lore files: 5 │\n",
       "╰─────────────────────╯\n"
      ]
     },
     "metadata": {},
     "output_type": "display_data"
    }
   ],
   "source": [
    "GAZETTEER = {\n",
    "  'factions_harpers.md': (\n",
    "    '# The Harpers (14th Century DR)\\n'\n",
    "    'The Harpers are a semi-secret network devoted to promoting good, preserving lore, and maintaining balance.\\n'\n",
    "    'They prefer subtle influence over open rule and often work through bards, sages, and sympathetic officials.\\n'\n",
    "    'Their aims frequently put them at odds with the Zhentarim. In cities such as Waterdeep and Baldur\\'s Gate,\\n'\n",
    "    'Harper agents cultivate informants and steer events away from tyranny.'\n",
    "  ),\n",
    "  'factions_zhentarim.md': (\n",
    "    '# The Zhentarim (Black Network)\\n'\n",
    "    'A ruthless mercantile syndicate that seeks profit and power by controlling trade routes and security.\\n'\n",
    "    'They hire mercenaries, corrupt officials, and smugglers to expand influence. The Harpers often oppose their methods.'\n",
    "  ),\n",
    "  'city_waterdeep.md': (\n",
    "    '# Waterdeep, the City of Splendors\\n'\n",
    "    'A metropolis of trade, politics, and masked lords. Competing factions—Harpers, Lords\\' Alliance, and the Zhentarim—\\n'\n",
    "    'vie for advantage beneath the watchful City Guard. Heists and covert negotiations are common.'\n",
    "  ),\n",
    "  'city_baldurs_gate.md': (\n",
    "    '# Baldur\\'s Gate\\n'\n",
    "    'A bustling port rife with merchant intrigue and smuggler dens. Law exists but influence and coin shape outcomes.\\n'\n",
    "    'Factions operate from warehouses and taverns along the docks; secrets travel as quickly as ships.'\n",
    "  ),\n",
    "  'regions_sword_coast.md': (\n",
    "    '# Sword Coast Overview\\n'\n",
    "    'City-states like Neverwinter, Waterdeep, and Baldur\\'s Gate anchor trade along treacherous roads and sea lanes.\\n'\n",
    "    'Caravans, guilds, and clandestine groups compete for contracts, while adventurers solve problems others cannot.'\n",
    "  )\n",
    "}\n",
    "for fn, content in GAZETTEER.items():\n",
    "    p = LORE_DIR / fn\n",
    "    if not p.exists():\n",
    "        p.write_text(content, encoding='utf-8')\n",
    "\n",
    "docs_texts, metas = [], []\n",
    "for path in LORE_DIR.glob('*.md'):\n",
    "    docs_texts.append(path.read_text(encoding='utf-8'))\n",
    "    metas.append({'source': path.name})\n",
    "rprint(Panel.fit(f'Local lore files: {len(docs_texts)}', title='Gazetteer'))"
   ]
  },
  {
   "cell_type": "markdown",
   "id": "b1da3083-fa9d-4d35-a133-957a8f9e74d9",
   "metadata": {},
   "source": [
    "## Build RAG Lore Retriever"
   ]
  },
  {
   "cell_type": "code",
   "execution_count": 83,
   "id": "1bfd40dc-2931-40aa-9129-638786c4b8a6",
   "metadata": {},
   "outputs": [
    {
     "data": {
      "text/html": [
       "<pre style=\"white-space:pre;overflow-x:auto;line-height:normal;font-family:Menlo,'DejaVu Sans Mono',consolas,'Courier New',monospace\">╭────────────────────────────────────────────────── RAG Warning ──────────────────────────────────────────────────╮\n",
       "│ Persistent index failed (An instance of Chroma already exists for /Users/tywolfe/Downloads/index/chroma with    │\n",
       "│ different settings); retrying in-memory.                                                                        │\n",
       "╰─────────────────────────────────────────────────────────────────────────────────────────────────────────────────╯\n",
       "</pre>\n"
      ],
      "text/plain": [
       "╭────────────────────────────────────────────────── RAG Warning ──────────────────────────────────────────────────╮\n",
       "│ Persistent index failed (An instance of Chroma already exists for /Users/tywolfe/Downloads/index/chroma with    │\n",
       "│ different settings); retrying in-memory.                                                                        │\n",
       "╰─────────────────────────────────────────────────────────────────────────────────────────────────────────────────╯\n"
      ]
     },
     "metadata": {},
     "output_type": "display_data"
    },
    {
     "data": {
      "text/html": [
       "<pre style=\"white-space:pre;overflow-x:auto;line-height:normal;font-family:Menlo,'DejaVu Sans Mono',consolas,'Courier New',monospace\">╭───────────────── RAG Ready (Memory) ──────────────────╮\n",
       "│ Built Chroma index (in-memory) with web + local lore. │\n",
       "╰───────────────────────────────────────────────────────╯\n",
       "</pre>\n"
      ],
      "text/plain": [
       "╭───────────────── RAG Ready (Memory) ──────────────────╮\n",
       "│ Built Chroma index (in-memory) with web + local lore. │\n",
       "╰───────────────────────────────────────────────────────╯\n"
      ]
     },
     "metadata": {},
     "output_type": "display_data"
    },
    {
     "data": {
      "text/html": [
       "<pre style=\"white-space:pre;overflow-x:auto;line-height:normal;font-family:Menlo,'DejaVu Sans Mono',consolas,'Courier New',monospace\">╭─────── Lore Search Mode ───────╮\n",
       "│ Retriever mode: VECTOR_RAG_MEM │\n",
       "╰────────────────────────────────╯\n",
       "</pre>\n"
      ],
      "text/plain": [
       "╭─────── Lore Search Mode ───────╮\n",
       "│ Retriever mode: VECTOR_RAG_MEM │\n",
       "╰────────────────────────────────╯\n"
      ]
     },
     "metadata": {},
     "output_type": "display_data"
    }
   ],
   "source": [
    "retriever_mode = 'BM25'\n",
    "bm25_fallback = None\n",
    "vector_vs = None\n",
    "vector_retriever = None\n",
    "\n",
    "def build_bm25():\n",
    "    global bm25_fallback, retriever_mode\n",
    "    try:\n",
    "        if LC_OK and LCBM25 is not None:\n",
    "            bm25 = LCBM25.from_texts(docs_texts, metadatas=metas)\n",
    "            bm25.k = 5\n",
    "            retriever_mode = 'LC_BM25'\n",
    "            return bm25\n",
    "    except Exception:\n",
    "        pass\n",
    "    # pure rank_bm25 fallback\n",
    "    from rank_bm25 import BM25Okapi\n",
    "    bm25_fallback = BM25Okapi([t.split() for t in docs_texts])\n",
    "    retriever_mode = 'BM25'\n",
    "    return None\n",
    "\n",
    "bm25_retriever = None\n",
    "\n",
    "def _build_vectorstore_persistent(web_chunks, local_chunks):\n",
    "    \"\"\"Try to build a persistent Chroma store under INDEX_DIR.\"\"\"\n",
    "    from chromadb.config import Settings\n",
    "    emb = HuggingFaceEmbeddings(model_name='sentence-transformers/all-MiniLM-L6-v2')\n",
    "    if INDEX_DIR.exists():\n",
    "        shutil.rmtree(INDEX_DIR, ignore_errors=True)\n",
    "    INDEX_DIR.mkdir(parents=True, exist_ok=True)\n",
    "    client_settings = Settings(\n",
    "        anonymized_telemetry=False,\n",
    "        is_persistent=True,\n",
    "        persist_directory=str(INDEX_DIR)\n",
    "    )\n",
    "    vs = Chroma.from_documents(\n",
    "        documents=(web_chunks + local_chunks),\n",
    "        embedding=emb,\n",
    "        persist_directory=str(INDEX_DIR),\n",
    "        client_settings=client_settings,\n",
    "    )\n",
    "    vs.persist()\n",
    "    return vs\n",
    "\n",
    "def _build_vectorstore_memory(web_chunks, local_chunks):\n",
    "    \"\"\"Fallback: in-memory Chroma (no disk writes).\"\"\"\n",
    "    emb = HuggingFaceEmbeddings(model_name='sentence-transformers/all-MiniLM-L6-v2')\n",
    "    return Chroma.from_documents(documents=(web_chunks + local_chunks), embedding=emb)\n",
    "\n",
    "if USE_VECTOR_RAG and LC_OK and WebBaseLoader and RecursiveCharacterTextSplitter and Chroma and HuggingFaceEmbeddings:\n",
    "    try:\n",
    "        # 1) Load web docs\n",
    "        loader = WebBaseLoader(web_paths=SAFE_URLS)\n",
    "        raw_docs = loader.load()\n",
    "        splitter = RecursiveCharacterTextSplitter(chunk_size=800, chunk_overlap=120)\n",
    "        web_chunks = splitter.split_documents(raw_docs)\n",
    "        for d in web_chunks:\n",
    "            d.metadata[\"source\"] = (\n",
    "                d.metadata.get(\"source_url\")\n",
    "                or d.metadata.get(\"source\")\n",
    "                or d.metadata.get(\"title\")\n",
    "                or \"web\"\n",
    "            )\n",
    "\n",
    "        # 2) Split local gazetteer\n",
    "        local_chunks = []\n",
    "        for i, text in enumerate(docs_texts):\n",
    "            parts = splitter.split_text(text)\n",
    "            src = metas[i]['source']\n",
    "            from langchain_core.documents import Document\n",
    "            local_chunks.extend([Document(page_content=ch, metadata={'source': src}) for ch in parts])\n",
    "\n",
    "        # 3) Try persistent first\n",
    "        try:\n",
    "            vector_vs = _build_vectorstore_persistent(web_chunks, local_chunks)\n",
    "            retriever_mode = 'VECTOR_RAG'\n",
    "            rprint(Panel.fit('Built Chroma index (persistent) with web + local lore.', title='RAG Ready'))\n",
    "        except Exception as e_persist:\n",
    "            rprint(Panel.fit(f'Persistent index failed ({e_persist}); retrying in-memory.', title='RAG Warning'))\n",
    "            # 4) Fallback: in-memory\n",
    "            vector_vs = _build_vectorstore_memory(web_chunks, local_chunks)\n",
    "            retriever_mode = 'VECTOR_RAG_MEM'\n",
    "            rprint(Panel.fit('Built Chroma index (in-memory) with web + local lore.', title='RAG Ready (Memory)'))\n",
    "\n",
    "        # Prepare a retriever with MMR if available\n",
    "        try:\n",
    "            vector_retriever = vector_vs.as_retriever(\n",
    "                search_type=\"mmr\",\n",
    "                search_kwargs={\"k\": 5, \"fetch_k\": 25}\n",
    "            )\n",
    "        except Exception:\n",
    "            vector_retriever = None\n",
    "\n",
    "    except Exception as e:\n",
    "        rprint(Panel.fit(f'RAG ingest failed ({e}); falling back to BM25.', title='RAG Error'))\n",
    "        bm25_retriever = build_bm25()\n",
    "else:\n",
    "    bm25_retriever = build_bm25()\n",
    "\n",
    "def lore_search(query: str) -> List[Dict[str, str]]:\n",
    "    \"\"\"Unified lore search across modes; tries vectorstore APIs that are stable across LC versions.\"\"\"\n",
    "    # VECTOR RAG (persistent or in-memory)\n",
    "    if retriever_mode in ('VECTOR_RAG', 'VECTOR_RAG_MEM') and vector_vs is not None:\n",
    "        try:\n",
    "            if hasattr(vector_vs, \"max_marginal_relevance_search\"):\n",
    "                docs = vector_vs.max_marginal_relevance_search(query, k=5, fetch_k=25)\n",
    "            elif hasattr(vector_vs, \"similarity_search\"):\n",
    "                docs = vector_vs.similarity_search(query, k=5)\n",
    "            elif vector_retriever is not None and hasattr(vector_retriever, \"invoke\"):\n",
    "                docs = vector_retriever.invoke(query)\n",
    "            elif vector_retriever is not None and hasattr(vector_retriever, \"get_relevant_documents\"):\n",
    "                docs = vector_retriever.get_relevant_documents(query)\n",
    "            else:\n",
    "                docs = []\n",
    "\n",
    "            out = [\n",
    "                {\"rank\": i+1, \"source\": d.metadata.get(\"source\", \"unknown\"), \"text\": d.page_content.strip()}\n",
    "                for i, d in enumerate(docs)\n",
    "            ]\n",
    "\n",
    "            # ensure at least one URL appears if available\n",
    "            if not any(str(x[\"source\"]).startswith(\"http\") for x in out):\n",
    "                if hasattr(vector_vs, \"similarity_search_with_score\"):\n",
    "                    scored = vector_vs.similarity_search_with_score(query, k=20)\n",
    "                    web_hits = [(d, s) for (d, s) in scored if str(d.metadata.get(\"source\",\"\")).startswith(\"http\")]\n",
    "                    if web_hits:\n",
    "                        best_web, _ = sorted(web_hits, key=lambda t: t[1])[:1][0]\n",
    "                        if out:\n",
    "                            out[-1] = {\"rank\": out[-1][\"rank\"],\n",
    "                                       \"source\": best_web.metadata.get(\"source\",\"unknown\"),\n",
    "                                       \"text\": best_web.page_content.strip()}\n",
    "                        else:\n",
    "                            out = [{\"rank\": 1,\n",
    "                                    \"source\": best_web.metadata.get(\"source\",\"unknown\"),\n",
    "                                    \"text\": best_web.page_content.strip()}]\n",
    "            return out\n",
    "        except Exception:\n",
    "            pass  # fall through to BM25\n",
    "\n",
    "    # LC BM25 retriever\n",
    "    if retriever_mode == 'LC_BM25' and bm25_retriever is not None:\n",
    "        if hasattr(bm25_retriever, 'get_relevant_documents'):\n",
    "            docs = bm25_retriever.get_relevant_documents(query)\n",
    "        elif hasattr(bm25_retriever, 'invoke'):\n",
    "            docs = bm25_retriever.invoke(query)\n",
    "        else:\n",
    "            docs = []\n",
    "        return [\n",
    "            {'rank': i+1,\n",
    "             'source': getattr(d, 'metadata', {}).get('source', 'unknown') if hasattr(d, 'metadata') else 'unknown',\n",
    "             'text': (getattr(d, 'page_content', str(d)) or '').strip()}\n",
    "            for i, d in enumerate(docs)\n",
    "        ]\n",
    "\n",
    "    # Pure BM25 fallback\n",
    "    from rank_bm25 import BM25Okapi\n",
    "    global bm25_fallback\n",
    "    if bm25_fallback is None:\n",
    "        bm25_fallback = BM25Okapi([t.split() for t in docs_texts])\n",
    "    scores = bm25_fallback.get_scores(query.split())\n",
    "    ranked = sorted(list(enumerate(scores)), key=lambda x: x[1], reverse=True)[:5]\n",
    "    return [{'rank': i+1, 'source': metas[idx]['source'], 'text': docs_texts[idx].strip()} for i, (idx, _) in enumerate(ranked)]\n",
    "\n",
    "rprint(Panel.fit(f'Retriever mode: {retriever_mode}', title='Lore Search Mode'))"
   ]
  },
  {
   "cell_type": "markdown",
   "id": "3b5347fc",
   "metadata": {},
   "source": [
    "## Bundled Sample of Rules SQLite Data"
   ]
  },
  {
   "cell_type": "code",
   "execution_count": 84,
   "id": "6abe8f3e",
   "metadata": {},
   "outputs": [
    {
     "data": {
      "text/html": [
       "<pre style=\"white-space:pre;overflow-x:auto;line-height:normal;font-family:Menlo,'DejaVu Sans Mono',consolas,'Courier New',monospace\">╭──────────────────── Rules DB ────────────────────╮\n",
       "│ SQLite rules DB built (items, spells, monsters). │\n",
       "╰──────────────────────────────────────────────────╯\n",
       "</pre>\n"
      ],
      "text/plain": [
       "╭──────────────────── Rules DB ────────────────────╮\n",
       "│ SQLite rules DB built (items, spells, monsters). │\n",
       "╰──────────────────────────────────────────────────╯\n"
      ]
     },
     "metadata": {},
     "output_type": "display_data"
    }
   ],
   "source": [
    "items = pd.DataFrame([\n",
    "    {'name':'Potion of Healing','type':'potion','rarity':'common','weight':0.5,'cost':50,'text':'Regain 2d4+2 HP when drunk.'},\n",
    "    {'name':'Cloak of Elvenkind','type':'wondrous','rarity':'uncommon','weight':1.0,'cost':0,'text':'Advantage on Stealth checks to hide.'},\n",
    "    {'name':'Shortsword','type':'weapon','rarity':'mundane','weight':2.0,'cost':10,'text':'1d6 piercing, finesse, light.'},\n",
    "    {'name':'Light Crossbow','type':'weapon','rarity':'mundane','weight':5.0,'cost':25,'text':'1d8 piercing, loading, two-handed.'},\n",
    "])\n",
    "spells = pd.DataFrame([\n",
    "    {'name':'Detect Magic','level':1,'school':'divination','classes':'Bard, Cleric, Wizard','casting_time':'1 action','range':'Self','duration':'10 minutes','components':'V,S','text':'Sense presence of magic within 30 feet.'},\n",
    "    {'name':'Silence','level':2,'school':'illusion','classes':'Bard, Cleric','casting_time':'1 action','range':'120 feet','duration':'10 minutes','components':'V,S','text':'No sound can be created within or pass through a 20-foot-radius sphere.'},\n",
    "    {'name':'Pass without Trace','level':2,'school':'abjuration','classes':'Druid, Ranger','casting_time':'1 action','range':'Self','duration':'1 hour','components':'V,S, M','text':'+10 bonus to Stealth checks to you and companions.'},\n",
    "])\n",
    "monsters = pd.DataFrame([\n",
    "    {'name':'Bandit','type':'humanoid','size':'Medium','alignment':'any non-good','ac':12,'hp':11,'speed':'30 ft.','cr':0.125,'text':'Thug working for a gang or syndicate.'},\n",
    "    {'name':'Guard','type':'humanoid','size':'Medium','alignment':'any','ac':16,'hp':11,'speed':'30 ft.','cr':0.125,'text':'City or caravan guard.'},\n",
    "    {'name':'Spy','type':'humanoid','size':'Medium','alignment':'any','ac':12,'hp':27,'speed':'30 ft.','cr':1.0,'text':'Agent skilled in deception and stealth.'},\n",
    "    {'name':'Veteran','type':'humanoid','size':'Medium','alignment':'any','ac':17,'hp':58,'speed':'30 ft.','cr':3.0,'text':'Seasoned warrior, often an officer.'},\n",
    "])\n",
    "\n",
    "if SQLITE_PATH.exists():\n",
    "    SQLITE_PATH.unlink()\n",
    "conn = sqlite3.connect(SQLITE_PATH)\n",
    "items.to_sql('items', conn, index=False)\n",
    "spells.to_sql('spells', conn, index=False)\n",
    "monsters.to_sql('monsters', conn, index=False)\n",
    "conn.execute('CREATE INDEX IF NOT EXISTS idx_items_name ON items(name);')\n",
    "conn.execute('CREATE INDEX IF NOT EXISTS idx_spells_level ON spells(level);')\n",
    "conn.execute('CREATE INDEX IF NOT EXISTS idx_monsters_cr ON monsters(cr);')\n",
    "conn.commit(); conn.close()\n",
    "rprint(Panel.fit('SQLite rules DB built (items, spells, monsters).', title='Rules DB'))"
   ]
  },
  {
   "cell_type": "markdown",
   "id": "d1c2ed83",
   "metadata": {},
   "source": [
    "## Utilities"
   ]
  },
  {
   "cell_type": "code",
   "execution_count": 85,
   "id": "3261f1e0",
   "metadata": {},
   "outputs": [],
   "source": [
    "def print_lore_results(passages, max_citations=2):\n",
    "\n",
    "    if not passages:\n",
    "        console.print(\"[bold red]No passages retrieved.[/bold red]\")\n",
    "        return\n",
    "\n",
    "    # Limit citations\n",
    "    top_passages = passages[:max_citations]\n",
    "\n",
    "    # Format the main answer and citations\n",
    "    console.print(\"\\n[bold underline white]Answer[/bold underline white]\\n\", justify=\"center\")\n",
    "\n",
    "    answer_md = Markdown(top_passages[0]['text'])\n",
    "    console.print(Panel.fit(answer_md, title=\"[bold yellow]Synthesized Summary[/bold yellow]\", border_style=\"bright_yellow\"))\n",
    "\n",
    "    console.print(\"\\n[dim underline]Top Citations[/dim underline]\", justify=\"center\")\n",
    "    for i, p in enumerate(top_passages, 1):\n",
    "        src = p[\"source\"]\n",
    "        snippet = Text(p[\"text\"].strip(), style=\"dim\")\n",
    "        citation_panel = Panel(\n",
    "            snippet,\n",
    "            title=f\"[dim]Citation {i}[/dim] — [link={src}]{src}[/link]\",\n",
    "            border_style=\"grey37\",\n",
    "            expand=False,\n",
    "            padding=(0, 1),\n",
    "        )\n",
    "        console.print(citation_panel)\n",
    "\n",
    "def summarize_passages(passages: List[Dict[str,str]], max_sents: int = 3) -> str:\n",
    "    import re\n",
    "    sents = []\n",
    "    for p in passages:\n",
    "        parts = re.split(r\"(?<=[.!?])\\s+\", p['text'].strip())\n",
    "        if parts:\n",
    "            sents.append(parts[0])\n",
    "    return ' '.join(sents[:max_sents])\n",
    "\n",
    "def run_sql(query: str) -> pd.DataFrame:\n",
    "    with sqlite3.connect(SQLITE_PATH) as c:\n",
    "        return pd.read_sql_query(query, c)\n",
    "\n",
    "def table(df: pd.DataFrame) -> str:\n",
    "    return tabulate(df, headers='keys', tablefmt='github', showindex=False)\n"
   ]
  },
  {
   "cell_type": "markdown",
   "id": "aeabecc6",
   "metadata": {},
   "source": [
    "## Preset DM Templates"
   ]
  },
  {
   "cell_type": "code",
   "execution_count": 86,
   "id": "8f69c68b",
   "metadata": {},
   "outputs": [],
   "source": [
    "def make_quest(city: str, faction: str, tier: str, citations: List[int]) -> Dict[str, Any]:\n",
    "    return {\n",
    "        'title': f'Shadows at the Docks of {city}',\n",
    "        'tier': tier,\n",
    "        'premise': f'The {faction} seek discreet help to disrupt a smuggling ring undermining fair trade.',\n",
    "        'beats': [\n",
    "            'Meet the contact in a busy tavern and learn recent incidents.',\n",
    "            'Shadow suspected warehouses along the waterfront.',\n",
    "            'Expose the ring-leader and secure incriminating manifests.'\n",
    "        ],\n",
    "        'complications': [\n",
    "            'The City Watch is on edge; too much noise draws attention.',\n",
    "            'A rival fixer tries to hire the party for a double-cross.'\n",
    "        ],\n",
    "        'reward': '100 gp each, a minor magical trinket, and faction goodwill.',\n",
    "        'citations': citations\n",
    "    }\n",
    "\n",
    "def make_npc(name: str, role: str, faction: str, citations: List[int]) -> Dict[str, Any]:\n",
    "    return {\n",
    "        'name': name,\n",
    "        'role': role,\n",
    "        'faction': faction,\n",
    "        'motivation': 'Keep trade fair and people safe without starting a war.',\n",
    "    'secret': 'Previously smuggled information for leverage; fears exposure.',\n",
    "        'quirks': 'Hums old harbor shanties when thinking.',\n",
    "        'stat_suggestion': 'Spy (MM) or Guard, depending on tone.',\n",
    "        'citations': citations\n",
    "    }\n",
    "\n",
    "def make_encounter(env: str, cr_min: float, cr_max: float, limit: int = 5) -> Dict[str, Any]:\n",
    "    df = run_sql(\n",
    "        f\"\"\"\n",
    "        SELECT name, type, ac, hp, cr \n",
    "        FROM monsters\n",
    "        WHERE cr >= {cr_min} AND cr <= {cr_max} AND type='humanoid'\n",
    "        LIMIT {limit};\n",
    "        \"\"\"\n",
    "    )\n",
    "    enemies = df.to_dict(orient='records')\n",
    "    return {\n",
    "        'environment': env,\n",
    "        'enemies': enemies,\n",
    "        'tactics': 'Strike from cover, withdraw to alleys; one scout runs to warn a veteran.',\n",
    "        'scaling_notes': 'Add a Veteran at high end; remove a Spy at low end.'\n",
    "    }\n",
    "\n",
    "def make_treasure(rarity: str = 'uncommon', limit: int = 4) -> Dict[str, Any]:\n",
    "    df = run_sql(\n",
    "        f\"\"\"\n",
    "        SELECT name, type, rarity, text \n",
    "        FROM items \n",
    "        WHERE rarity='{rarity}' OR rarity='common'\n",
    "        LIMIT {limit};\n",
    "        \"\"\"\n",
    "    )\n",
    "    return {'hoard': df.to_dict(orient='records')}"
   ]
  },
  {
   "cell_type": "markdown",
   "id": "68bdd043",
   "metadata": {},
   "source": [
    "## Demo of Lore Q&A"
   ]
  },
  {
   "cell_type": "code",
   "execution_count": 77,
   "id": "3ed49e00",
   "metadata": {},
   "outputs": [
    {
     "data": {
      "text/html": [
       "<pre style=\"white-space:pre;overflow-x:auto;line-height:normal;font-family:Menlo,'DejaVu Sans Mono',consolas,'Courier New',monospace\">╭───────────────────────────────────────── <span style=\"color: #008080; text-decoration-color: #008080; font-weight: bold\">User Question</span> ──────────────────────────────────────────╮\n",
       "│ What is the Harper stance toward the Zhentarim in Waterdeep, and how might it influence a heist? │\n",
       "╰──────────────────────────────────────────────────────────────────────────────────────────────────╯\n",
       "</pre>\n"
      ],
      "text/plain": [
       "╭───────────────────────────────────────── \u001b[1;36mUser Question\u001b[0m ──────────────────────────────────────────╮\n",
       "│ What is the Harper stance toward the Zhentarim in Waterdeep, and how might it influence a heist? │\n",
       "╰──────────────────────────────────────────────────────────────────────────────────────────────────╯\n"
      ]
     },
     "metadata": {},
     "output_type": "display_data"
    },
    {
     "data": {
      "text/html": [
       "<pre style=\"white-space:pre;overflow-x:auto;line-height:normal;font-family:Menlo,'DejaVu Sans Mono',consolas,'Courier New',monospace\">╭──────────────────────────────────────────────────── <span style=\"color: #008000; text-decoration-color: #008000; font-weight: bold\">Answer</span> ─────────────────────────────────────────────────────╮\n",
       "│ “                                                                                                               │\n",
       "│ Over long years, the Zhentarim became the main opposition for the Harpers, corrupting merchants and minor       │\n",
       "│ nobles across the greater Heartlands and becoming the prime force in the Moonsea. Within four years, the        │\n",
       "│ Harpers of Waterdeep were led by a Harper agent known as Aron \"the Fisher\" Vishter, who was actually a double   │\n",
       "│ agent working for the Zhentarim to undermine Harper operations. ↑ 55.0 55.1 55.2 Christopher Perkins, James     │\n",
       "│ Haeck, James Introcaso, Adam Lee, Matthew Sernett (September 2018).                                             │\n",
       "╰─────────────────────────────────────────────────────────────────────────────────────────────────────────────────╯\n",
       "</pre>\n"
      ],
      "text/plain": [
       "╭──────────────────────────────────────────────────── \u001b[1;32mAnswer\u001b[0m ─────────────────────────────────────────────────────╮\n",
       "│ “                                                                                                               │\n",
       "│ Over long years, the Zhentarim became the main opposition for the Harpers, corrupting merchants and minor       │\n",
       "│ nobles across the greater Heartlands and becoming the prime force in the Moonsea. Within four years, the        │\n",
       "│ Harpers of Waterdeep were led by a Harper agent known as Aron \"the Fisher\" Vishter, who was actually a double   │\n",
       "│ agent working for the Zhentarim to undermine Harper operations. ↑ 55.0 55.1 55.2 Christopher Perkins, James     │\n",
       "│ Haeck, James Introcaso, Adam Lee, Matthew Sernett (September 2018).                                             │\n",
       "╰─────────────────────────────────────────────────────────────────────────────────────────────────────────────────╯\n"
      ]
     },
     "metadata": {},
     "output_type": "display_data"
    },
    {
     "data": {
      "text/html": [
       "<pre style=\"white-space:pre;overflow-x:auto;line-height:normal;font-family:Menlo,'DejaVu Sans Mono',consolas,'Courier New',monospace\">                                                                                                                   \n",
       "                                                      <span style=\"color: #c0c0c0; text-decoration-color: #c0c0c0; font-weight: bold; text-decoration: underline\">Answer</span>                                                       \n",
       "                                                                                                                   \n",
       "</pre>\n"
      ],
      "text/plain": [
       "                                                                                                                   \n",
       "                                                      \u001b[1;4;37mAnswer\u001b[0m                                                       \n",
       "                                                                                                                   \n"
      ]
     },
     "metadata": {},
     "output_type": "display_data"
    },
    {
     "data": {
      "text/html": [
       "<pre style=\"white-space:pre;overflow-x:auto;line-height:normal;font-family:Menlo,'DejaVu Sans Mono',consolas,'Courier New',monospace\"><span style=\"color: #ffff00; text-decoration-color: #ffff00\">╭────────────────────────────────────────────── </span><span style=\"color: #808000; text-decoration-color: #808000; font-weight: bold\">Synthesized Summary</span><span style=\"color: #ffff00; text-decoration-color: #ffff00\"> ──────────────────────────────────────────────╮</span>\n",
       "<span style=\"color: #ffff00; text-decoration-color: #ffff00\">│</span> “ Over long years, the Zhentarim became the main opposition for the Harpers, corrupting merchants and minor     <span style=\"color: #ffff00; text-decoration-color: #ffff00\">│</span>\n",
       "<span style=\"color: #ffff00; text-decoration-color: #ffff00\">│</span> nobles across the greater Heartlands and becoming the prime force in the Moonsea. ” — Asgir Lefrenn,            <span style=\"color: #ffff00; text-decoration-color: #ffff00\">│</span>\n",
       "<span style=\"color: #ffff00; text-decoration-color: #ffff00\">│</span> Underscribe of Candlekeep.[220]                                                                                 <span style=\"color: #ffff00; text-decoration-color: #ffff00\">│</span>\n",
       "<span style=\"color: #ffff00; text-decoration-color: #ffff00\">╰─────────────────────────────────────────────────────────────────────────────────────────────────────────────────╯</span>\n",
       "</pre>\n"
      ],
      "text/plain": [
       "\u001b[93m╭─\u001b[0m\u001b[93m─────────────────────────────────────────────\u001b[0m\u001b[93m \u001b[0m\u001b[1;33mSynthesized Summary\u001b[0m\u001b[93m \u001b[0m\u001b[93m─────────────────────────────────────────────\u001b[0m\u001b[93m─╮\u001b[0m\n",
       "\u001b[93m│\u001b[0m “ Over long years, the Zhentarim became the main opposition for the Harpers, corrupting merchants and minor     \u001b[93m│\u001b[0m\n",
       "\u001b[93m│\u001b[0m nobles across the greater Heartlands and becoming the prime force in the Moonsea. ” — Asgir Lefrenn,            \u001b[93m│\u001b[0m\n",
       "\u001b[93m│\u001b[0m Underscribe of Candlekeep.[220]                                                                                 \u001b[93m│\u001b[0m\n",
       "\u001b[93m╰─────────────────────────────────────────────────────────────────────────────────────────────────────────────────╯\u001b[0m\n"
      ]
     },
     "metadata": {},
     "output_type": "display_data"
    },
    {
     "data": {
      "text/html": [
       "<pre style=\"white-space:pre;overflow-x:auto;line-height:normal;font-family:Menlo,'DejaVu Sans Mono',consolas,'Courier New',monospace\">                                                                                                                   \n",
       "                                                   <span style=\"color: #7f7f7f; text-decoration-color: #7f7f7f; text-decoration: underline\">Top Citations</span>                                                   \n",
       "</pre>\n"
      ],
      "text/plain": [
       "                                                                                                                   \n",
       "                                                   \u001b[2;4mTop Citations\u001b[0m                                                   \n"
      ]
     },
     "metadata": {},
     "output_type": "display_data"
    },
    {
     "data": {
      "text/html": [
       "<pre style=\"white-space:pre;overflow-x:auto;line-height:normal;font-family:Menlo,'DejaVu Sans Mono',consolas,'Courier New',monospace\"><span style=\"color: #5f5f5f; text-decoration-color: #5f5f5f\">╭───────────────────────── </span><span style=\"color: #afafaf; text-decoration-color: #afafaf\">Citation 1</span><span style=\"color: #5f5f5f; text-decoration-color: #5f5f5f\"> — </span><a href=\"https://forgottenrealms.fandom.com/wiki/Harpers\" target=\"_blank\"><span style=\"color: #5f5f5f; text-decoration-color: #5f5f5f\">https://forgottenrealms.fandom.com/wiki/Harpers</span></a><span style=\"color: #5f5f5f; text-decoration-color: #5f5f5f\"> ──────────────────────────╮</span>\n",
       "<span style=\"color: #5f5f5f; text-decoration-color: #5f5f5f\">│</span> <span style=\"color: #7f7f7f; text-decoration-color: #7f7f7f\">“</span>                                                                                                               <span style=\"color: #5f5f5f; text-decoration-color: #5f5f5f\">│</span>\n",
       "<span style=\"color: #5f5f5f; text-decoration-color: #5f5f5f\">│</span> <span style=\"color: #7f7f7f; text-decoration-color: #7f7f7f\">Over long years, the Zhentarim became the main opposition for the Harpers, corrupting merchants and minor </span>      <span style=\"color: #5f5f5f; text-decoration-color: #5f5f5f\">│</span>\n",
       "<span style=\"color: #5f5f5f; text-decoration-color: #5f5f5f\">│</span> <span style=\"color: #7f7f7f; text-decoration-color: #7f7f7f\">nobles across the greater Heartlands and becoming the prime force in the Moonsea.</span>                               <span style=\"color: #5f5f5f; text-decoration-color: #5f5f5f\">│</span>\n",
       "<span style=\"color: #5f5f5f; text-decoration-color: #5f5f5f\">│</span> <span style=\"color: #7f7f7f; text-decoration-color: #7f7f7f\">”</span>                                                                                                               <span style=\"color: #5f5f5f; text-decoration-color: #5f5f5f\">│</span>\n",
       "<span style=\"color: #5f5f5f; text-decoration-color: #5f5f5f\">│</span> <span style=\"color: #7f7f7f; text-decoration-color: #7f7f7f\">— Asgir Lefrenn, Underscribe of Candlekeep.[220]</span>                                                                <span style=\"color: #5f5f5f; text-decoration-color: #5f5f5f\">│</span>\n",
       "<span style=\"color: #5f5f5f; text-decoration-color: #5f5f5f\">╰─────────────────────────────────────────────────────────────────────────────────────────────────────────────────╯</span>\n",
       "</pre>\n"
      ],
      "text/plain": [
       "\u001b[38;5;59m╭─\u001b[0m\u001b[38;5;59m────────────────────────\u001b[0m\u001b[38;5;59m \u001b[0m\u001b[2;38;5;59mCitation 1\u001b[0m\u001b[38;5;59m — \u001b[0m\u001b]8;id=229258;https://forgottenrealms.fandom.com/wiki/Harpers\u001b\\\u001b[38;5;59mhttps://forgottenrealms.fandom.com/wiki/Harpers\u001b[0m\u001b]8;;\u001b\\\u001b[38;5;59m \u001b[0m\u001b[38;5;59m─────────────────────────\u001b[0m\u001b[38;5;59m─╮\u001b[0m\n",
       "\u001b[38;5;59m│\u001b[0m \u001b[2m“\u001b[0m                                                                                                               \u001b[38;5;59m│\u001b[0m\n",
       "\u001b[38;5;59m│\u001b[0m \u001b[2mOver long years, the Zhentarim became the main opposition for the Harpers, corrupting merchants and minor \u001b[0m      \u001b[38;5;59m│\u001b[0m\n",
       "\u001b[38;5;59m│\u001b[0m \u001b[2mnobles across the greater Heartlands and becoming the prime force in the Moonsea.\u001b[0m                               \u001b[38;5;59m│\u001b[0m\n",
       "\u001b[38;5;59m│\u001b[0m \u001b[2m”\u001b[0m                                                                                                               \u001b[38;5;59m│\u001b[0m\n",
       "\u001b[38;5;59m│\u001b[0m \u001b[2m— Asgir Lefrenn, Underscribe of Candlekeep.[220]\u001b[0m                                                                \u001b[38;5;59m│\u001b[0m\n",
       "\u001b[38;5;59m╰─────────────────────────────────────────────────────────────────────────────────────────────────────────────────╯\u001b[0m\n"
      ]
     },
     "metadata": {},
     "output_type": "display_data"
    },
    {
     "data": {
      "text/html": [
       "<pre style=\"white-space:pre;overflow-x:auto;line-height:normal;font-family:Menlo,'DejaVu Sans Mono',consolas,'Courier New',monospace\"><span style=\"color: #5f5f5f; text-decoration-color: #5f5f5f\">╭───────────────────────── </span><span style=\"color: #afafaf; text-decoration-color: #afafaf\">Citation 2</span><span style=\"color: #5f5f5f; text-decoration-color: #5f5f5f\"> — </span><a href=\"https://forgottenrealms.fandom.com/wiki/Harpers\" target=\"_blank\"><span style=\"color: #5f5f5f; text-decoration-color: #5f5f5f\">https://forgottenrealms.fandom.com/wiki/Harpers</span></a><span style=\"color: #5f5f5f; text-decoration-color: #5f5f5f\"> ──────────────────────────╮</span>\n",
       "<span style=\"color: #5f5f5f; text-decoration-color: #5f5f5f\">│</span> <span style=\"color: #7f7f7f; text-decoration-color: #7f7f7f\">Within four years, the Harpers of Waterdeep were led by a Harper agent known as Aron \"the Fisher\" Vishter, who </span> <span style=\"color: #5f5f5f; text-decoration-color: #5f5f5f\">│</span>\n",
       "<span style=\"color: #5f5f5f; text-decoration-color: #5f5f5f\">│</span> <span style=\"color: #7f7f7f; text-decoration-color: #7f7f7f\">was actually a double agent working for the Zhentarim to undermine Harper operations. Although Tam Zawad and </span>   <span style=\"color: #5f5f5f; text-decoration-color: #5f5f5f\">│</span>\n",
       "<span style=\"color: #5f5f5f; text-decoration-color: #5f5f5f\">│</span> <span style=\"color: #7f7f7f; text-decoration-color: #7f7f7f\">other Harpers were able to bring the Fisher to justice, he did great damage to the Harpers of Waterdeep. Even </span>  <span style=\"color: #5f5f5f; text-decoration-color: #5f5f5f\">│</span>\n",
       "<span style=\"color: #5f5f5f; text-decoration-color: #5f5f5f\">│</span> <span style=\"color: #7f7f7f; text-decoration-color: #7f7f7f\">after seven years, Zawad was still dealing with corrupt Harpers within his Harper cell.[30]</span>                     <span style=\"color: #5f5f5f; text-decoration-color: #5f5f5f\">│</span>\n",
       "<span style=\"color: #5f5f5f; text-decoration-color: #5f5f5f\">╰─────────────────────────────────────────────────────────────────────────────────────────────────────────────────╯</span>\n",
       "</pre>\n"
      ],
      "text/plain": [
       "\u001b[38;5;59m╭─\u001b[0m\u001b[38;5;59m────────────────────────\u001b[0m\u001b[38;5;59m \u001b[0m\u001b[2;38;5;59mCitation 2\u001b[0m\u001b[38;5;59m — \u001b[0m\u001b]8;id=529903;https://forgottenrealms.fandom.com/wiki/Harpers\u001b\\\u001b[38;5;59mhttps://forgottenrealms.fandom.com/wiki/Harpers\u001b[0m\u001b]8;;\u001b\\\u001b[38;5;59m \u001b[0m\u001b[38;5;59m─────────────────────────\u001b[0m\u001b[38;5;59m─╮\u001b[0m\n",
       "\u001b[38;5;59m│\u001b[0m \u001b[2mWithin four years, the Harpers of Waterdeep were led by a Harper agent known as Aron \"the Fisher\" Vishter, who \u001b[0m \u001b[38;5;59m│\u001b[0m\n",
       "\u001b[38;5;59m│\u001b[0m \u001b[2mwas actually a double agent working for the Zhentarim to undermine Harper operations. Although Tam Zawad and \u001b[0m   \u001b[38;5;59m│\u001b[0m\n",
       "\u001b[38;5;59m│\u001b[0m \u001b[2mother Harpers were able to bring the Fisher to justice, he did great damage to the Harpers of Waterdeep. Even \u001b[0m  \u001b[38;5;59m│\u001b[0m\n",
       "\u001b[38;5;59m│\u001b[0m \u001b[2mafter seven years, Zawad was still dealing with corrupt Harpers within his Harper cell.[30]\u001b[0m                     \u001b[38;5;59m│\u001b[0m\n",
       "\u001b[38;5;59m╰─────────────────────────────────────────────────────────────────────────────────────────────────────────────────╯\u001b[0m\n"
      ]
     },
     "metadata": {},
     "output_type": "display_data"
    }
   ],
   "source": [
    "question = \"What is the Harper stance toward the Zhentarim in Waterdeep, and how might it influence a heist?\"\n",
    "rprint(Panel.fit(question, title=\"[bold cyan]User Question[/bold cyan]\"))\n",
    "\n",
    "passages = lore_search(question)\n",
    "summary = summarize_passages(passages, max_sents=3)\n",
    "\n",
    "rprint(Panel.fit(summary, title=\"[bold green]Answer[/bold green]\"))\n",
    "print_lore_results(passages, max_citations=2)"
   ]
  },
  {
   "cell_type": "code",
   "execution_count": 91,
   "id": "e4b4ccbf-555b-486c-b72e-e8617b3ca856",
   "metadata": {},
   "outputs": [
    {
     "data": {
      "text/html": [
       "<pre style=\"white-space:pre;overflow-x:auto;line-height:normal;font-family:Menlo,'DejaVu Sans Mono',consolas,'Courier New',monospace\">╭──────────────────── <span style=\"color: #008080; text-decoration-color: #008080; font-weight: bold\">User Question</span> ────────────────────╮\n",
       "│ Tell me about player classes in Dungeons and Dragons? │\n",
       "╰───────────────────────────────────────────────────────╯\n",
       "</pre>\n"
      ],
      "text/plain": [
       "╭──────────────────── \u001b[1;36mUser Question\u001b[0m ────────────────────╮\n",
       "│ Tell me about player classes in Dungeons and Dragons? │\n",
       "╰───────────────────────────────────────────────────────╯\n"
      ]
     },
     "metadata": {},
     "output_type": "display_data"
    },
    {
     "data": {
      "text/html": [
       "<pre style=\"white-space:pre;overflow-x:auto;line-height:normal;font-family:Menlo,'DejaVu Sans Mono',consolas,'Courier New',monospace\">╭─────────────────────────────── <span style=\"color: #008000; text-decoration-color: #008000; font-weight: bold\">Answer</span> ───────────────────────────────╮\n",
       "│ ^ Tongue, Cassie (2024-12-19). ^ Schick, Lawrence (1991). Dragonborn │\n",
       "│ Dwarf                                                                │\n",
       "│ Elf                                                                  │\n",
       "│ Drow                                                                 │\n",
       "│ Gnome                                                                │\n",
       "│ Half-elf                                                             │\n",
       "│ Half-orcs                                                            │\n",
       "│ Halfling                                                             │\n",
       "│ Human                                                                │\n",
       "│ Kender                                                               │\n",
       "│ Tiefling                                                             │\n",
       "│ Warforged                                                            │\n",
       "│ Classes                                                              │\n",
       "│ Artificer                                                            │\n",
       "│ Barbarian                                                            │\n",
       "│ Bard                                                                 │\n",
       "│ Cleric                                                               │\n",
       "│ Druid                                                                │\n",
       "│ Fighter                                                              │\n",
       "│ Monk                                                                 │\n",
       "│ Paladin                                                              │\n",
       "│ Ranger                                                               │\n",
       "│ Rogue                                                                │\n",
       "│ Sorcerer                                                             │\n",
       "│ Warlock                                                              │\n",
       "│ Wizard                                                               │\n",
       "│ List of alternative classes                                          │\n",
       "│ Character lists                                                      │\n",
       "│ Dragonlance                                                          │\n",
       "│ Greyhawk                                                             │\n",
       "│ Ravenloft                                                            │\n",
       "│ Notable characters                                                   │\n",
       "│ Alias                                                                │\n",
       "│ Catti-brie                                                           │\n",
       "│ Drizzt Do'Urden                                                      │\n",
       "│ Elminster                                                            │\n",
       "│ Volothamp Geddarm                                                    │\n",
       "│ Gord the Rogue                                                       │\n",
       "│ Iggwilv                                                              │\n",
       "│ Lord Soth                                                            │\n",
       "│ Raistlin Majere                                                      │\n",
       "│ Minsc                                                                │\n",
       "│ Mordenkainen                                                         │\n",
       "│ Tenser                                                               │\n",
       "│ Strahd von Zarovich                                                  │\n",
       "│ Wulfgar                                                              │\n",
       "│ Creatures and monsters                                               │\n",
       "│ Beholders                                                            │\n",
       "│ Centaur                                                              │\n",
       "│ Devils                                                               │\n",
       "│ Dragons                                                              │\n",
       "│ Gelatinous cube                                                      │\n",
       "│ Giants                                                               │\n",
       "│ Goblins                                                              │\n",
       "│ Illithid (mind flayer)                                               │\n",
       "│ Lich                                                                 │\n",
       "│ Mimic                                                                │\n",
       "│ Owlbear                                                              │\n",
       "│ Orcs                                                                 │\n",
       "│ Reptilian humanoids                                                  │\n",
       "│ Kobolds                                                              │\n",
       "│ Slaadi                                                               │\n",
       "│ Trolls                                                               │\n",
       "│ Vampires                                                             │\n",
       "│ List of Dungeons &amp; Dragons monsters (1974–76)                        │\n",
       "│ List of Dungeons &amp; Dragons monsters (1977–99)                        │\n",
       "│ List of 2nd edition monsters                                         │\n",
       "│ List of 3rd edition monsters                                         │\n",
       "╰──────────────────────────────────────────────────────────────────────╯\n",
       "</pre>\n"
      ],
      "text/plain": [
       "╭─────────────────────────────── \u001b[1;32mAnswer\u001b[0m ───────────────────────────────╮\n",
       "│ ^ Tongue, Cassie (2024-12-19). ^ Schick, Lawrence (1991). Dragonborn │\n",
       "│ Dwarf                                                                │\n",
       "│ Elf                                                                  │\n",
       "│ Drow                                                                 │\n",
       "│ Gnome                                                                │\n",
       "│ Half-elf                                                             │\n",
       "│ Half-orcs                                                            │\n",
       "│ Halfling                                                             │\n",
       "│ Human                                                                │\n",
       "│ Kender                                                               │\n",
       "│ Tiefling                                                             │\n",
       "│ Warforged                                                            │\n",
       "│ Classes                                                              │\n",
       "│ Artificer                                                            │\n",
       "│ Barbarian                                                            │\n",
       "│ Bard                                                                 │\n",
       "│ Cleric                                                               │\n",
       "│ Druid                                                                │\n",
       "│ Fighter                                                              │\n",
       "│ Monk                                                                 │\n",
       "│ Paladin                                                              │\n",
       "│ Ranger                                                               │\n",
       "│ Rogue                                                                │\n",
       "│ Sorcerer                                                             │\n",
       "│ Warlock                                                              │\n",
       "│ Wizard                                                               │\n",
       "│ List of alternative classes                                          │\n",
       "│ Character lists                                                      │\n",
       "│ Dragonlance                                                          │\n",
       "│ Greyhawk                                                             │\n",
       "│ Ravenloft                                                            │\n",
       "│ Notable characters                                                   │\n",
       "│ Alias                                                                │\n",
       "│ Catti-brie                                                           │\n",
       "│ Drizzt Do'Urden                                                      │\n",
       "│ Elminster                                                            │\n",
       "│ Volothamp Geddarm                                                    │\n",
       "│ Gord the Rogue                                                       │\n",
       "│ Iggwilv                                                              │\n",
       "│ Lord Soth                                                            │\n",
       "│ Raistlin Majere                                                      │\n",
       "│ Minsc                                                                │\n",
       "│ Mordenkainen                                                         │\n",
       "│ Tenser                                                               │\n",
       "│ Strahd von Zarovich                                                  │\n",
       "│ Wulfgar                                                              │\n",
       "│ Creatures and monsters                                               │\n",
       "│ Beholders                                                            │\n",
       "│ Centaur                                                              │\n",
       "│ Devils                                                               │\n",
       "│ Dragons                                                              │\n",
       "│ Gelatinous cube                                                      │\n",
       "│ Giants                                                               │\n",
       "│ Goblins                                                              │\n",
       "│ Illithid (mind flayer)                                               │\n",
       "│ Lich                                                                 │\n",
       "│ Mimic                                                                │\n",
       "│ Owlbear                                                              │\n",
       "│ Orcs                                                                 │\n",
       "│ Reptilian humanoids                                                  │\n",
       "│ Kobolds                                                              │\n",
       "│ Slaadi                                                               │\n",
       "│ Trolls                                                               │\n",
       "│ Vampires                                                             │\n",
       "│ List of Dungeons & Dragons monsters (1974–76)                        │\n",
       "│ List of Dungeons & Dragons monsters (1977–99)                        │\n",
       "│ List of 2nd edition monsters                                         │\n",
       "│ List of 3rd edition monsters                                         │\n",
       "╰──────────────────────────────────────────────────────────────────────╯\n"
      ]
     },
     "metadata": {},
     "output_type": "display_data"
    },
    {
     "data": {
      "text/html": [
       "<pre style=\"white-space:pre;overflow-x:auto;line-height:normal;font-family:Menlo,'DejaVu Sans Mono',consolas,'Courier New',monospace\">                                                                                                                   \n",
       "                                                      <span style=\"color: #c0c0c0; text-decoration-color: #c0c0c0; font-weight: bold; text-decoration: underline\">Answer</span>                                                       \n",
       "                                                                                                                   \n",
       "</pre>\n"
      ],
      "text/plain": [
       "                                                                                                                   \n",
       "                                                      \u001b[1;4;37mAnswer\u001b[0m                                                       \n",
       "                                                                                                                   \n"
      ]
     },
     "metadata": {},
     "output_type": "display_data"
    },
    {
     "data": {
      "text/html": [
       "<pre style=\"white-space:pre;overflow-x:auto;line-height:normal;font-family:Menlo,'DejaVu Sans Mono',consolas,'Courier New',monospace\"><span style=\"color: #ffff00; text-decoration-color: #ffff00\">╭────────────────────────────────────────────── </span><span style=\"color: #808000; text-decoration-color: #808000; font-weight: bold\">Synthesized Summary</span><span style=\"color: #ffff00; text-decoration-color: #ffff00\"> ──────────────────────────────────────────────╮</span>\n",
       "<span style=\"color: #ffff00; text-decoration-color: #ffff00\">│</span> ^ Tongue, Cassie (2024-12-19). \"Dungeons &amp; Dragons the Twenty-Sided Tavern review – interactive adventure       <span style=\"color: #ffff00; text-decoration-color: #ffff00\">│</span>\n",
       "<span style=\"color: #ffff00; text-decoration-color: #ffff00\">│</span> that's nail-biting fun\". The Guardian. Retrieved 2025-01-13.                                                    <span style=\"color: #ffff00; text-decoration-color: #ffff00\">│</span>\n",
       "<span style=\"color: #ffff00; text-decoration-color: #ffff00\">│</span>                                                                                                                 <span style=\"color: #ffff00; text-decoration-color: #ffff00\">│</span>\n",
       "<span style=\"color: #ffff00; text-decoration-color: #ffff00\">│</span> ^ Ma, Wenlei (March 26, 2025). \"Satanic Panic and nerdy introverts: D&amp;D myths busted\". The Nightly. Retrieved   <span style=\"color: #ffff00; text-decoration-color: #ffff00\">│</span>\n",
       "<span style=\"color: #ffff00; text-decoration-color: #ffff00\">│</span> July 26, 2025.                                                                                                  <span style=\"color: #ffff00; text-decoration-color: #ffff00\">│</span>\n",
       "<span style=\"color: #ffff00; text-decoration-color: #ffff00\">│</span>                                                                                                                 <span style=\"color: #ffff00; text-decoration-color: #ffff00\">│</span>\n",
       "<span style=\"color: #ffff00; text-decoration-color: #ffff00\">│</span> ^ Macgregor, Jody (December 9, 2023). \"D&amp;D's Revised Player's Handbook 'will be the biggest Player's Handbook   <span style=\"color: #ffff00; text-decoration-color: #ffff00\">│</span>\n",
       "<span style=\"color: #ffff00; text-decoration-color: #ffff00\">│</span> that D&amp;D has ever had', and like all the Revised core books will be compatible with the current edition\". PC    <span style=\"color: #ffff00; text-decoration-color: #ffff00\">│</span>\n",
       "<span style=\"color: #ffff00; text-decoration-color: #ffff00\">│</span> Gamer. Archived from the original on August 29, 2024. Retrieved December 10, 2023.                              <span style=\"color: #ffff00; text-decoration-color: #ffff00\">│</span>\n",
       "<span style=\"color: #ffff00; text-decoration-color: #ffff00\">│</span>                                                                                                                 <span style=\"color: #ffff00; text-decoration-color: #ffff00\">│</span>\n",
       "<span style=\"color: #ffff00; text-decoration-color: #ffff00\">│</span> ^ Hoffer, Christian (June 26, 2024). \"Dungeons &amp; Dragons Confirms Big Change to Classes in 2024 Core            <span style=\"color: #ffff00; text-decoration-color: #ffff00\">│</span>\n",
       "<span style=\"color: #ffff00; text-decoration-color: #ffff00\">│</span> Rulebooks\". ComicBook.com. Archived from the original on August 29, 2024. Retrieved August 27, 2024.            <span style=\"color: #ffff00; text-decoration-color: #ffff00\">│</span>\n",
       "<span style=\"color: #ffff00; text-decoration-color: #ffff00\">╰─────────────────────────────────────────────────────────────────────────────────────────────────────────────────╯</span>\n",
       "</pre>\n"
      ],
      "text/plain": [
       "\u001b[93m╭─\u001b[0m\u001b[93m─────────────────────────────────────────────\u001b[0m\u001b[93m \u001b[0m\u001b[1;33mSynthesized Summary\u001b[0m\u001b[93m \u001b[0m\u001b[93m─────────────────────────────────────────────\u001b[0m\u001b[93m─╮\u001b[0m\n",
       "\u001b[93m│\u001b[0m ^ Tongue, Cassie (2024-12-19). \"Dungeons & Dragons the Twenty-Sided Tavern review – interactive adventure       \u001b[93m│\u001b[0m\n",
       "\u001b[93m│\u001b[0m that's nail-biting fun\". The Guardian. Retrieved 2025-01-13.                                                    \u001b[93m│\u001b[0m\n",
       "\u001b[93m│\u001b[0m                                                                                                                 \u001b[93m│\u001b[0m\n",
       "\u001b[93m│\u001b[0m ^ Ma, Wenlei (March 26, 2025). \"Satanic Panic and nerdy introverts: D&D myths busted\". The Nightly. Retrieved   \u001b[93m│\u001b[0m\n",
       "\u001b[93m│\u001b[0m July 26, 2025.                                                                                                  \u001b[93m│\u001b[0m\n",
       "\u001b[93m│\u001b[0m                                                                                                                 \u001b[93m│\u001b[0m\n",
       "\u001b[93m│\u001b[0m ^ Macgregor, Jody (December 9, 2023). \"D&D's Revised Player's Handbook 'will be the biggest Player's Handbook   \u001b[93m│\u001b[0m\n",
       "\u001b[93m│\u001b[0m that D&D has ever had', and like all the Revised core books will be compatible with the current edition\". PC    \u001b[93m│\u001b[0m\n",
       "\u001b[93m│\u001b[0m Gamer. Archived from the original on August 29, 2024. Retrieved December 10, 2023.                              \u001b[93m│\u001b[0m\n",
       "\u001b[93m│\u001b[0m                                                                                                                 \u001b[93m│\u001b[0m\n",
       "\u001b[93m│\u001b[0m ^ Hoffer, Christian (June 26, 2024). \"Dungeons & Dragons Confirms Big Change to Classes in 2024 Core            \u001b[93m│\u001b[0m\n",
       "\u001b[93m│\u001b[0m Rulebooks\". ComicBook.com. Archived from the original on August 29, 2024. Retrieved August 27, 2024.            \u001b[93m│\u001b[0m\n",
       "\u001b[93m╰─────────────────────────────────────────────────────────────────────────────────────────────────────────────────╯\u001b[0m\n"
      ]
     },
     "metadata": {},
     "output_type": "display_data"
    },
    {
     "data": {
      "text/html": [
       "<pre style=\"white-space:pre;overflow-x:auto;line-height:normal;font-family:Menlo,'DejaVu Sans Mono',consolas,'Courier New',monospace\">                                                                                                                   \n",
       "                                                   <span style=\"color: #7f7f7f; text-decoration-color: #7f7f7f; text-decoration: underline\">Top Citations</span>                                                   \n",
       "</pre>\n"
      ],
      "text/plain": [
       "                                                                                                                   \n",
       "                                                   \u001b[2;4mTop Citations\u001b[0m                                                   \n"
      ]
     },
     "metadata": {},
     "output_type": "display_data"
    },
    {
     "data": {
      "text/html": [
       "<pre style=\"white-space:pre;overflow-x:auto;line-height:normal;font-family:Menlo,'DejaVu Sans Mono',consolas,'Courier New',monospace\"><span style=\"color: #5f5f5f; text-decoration-color: #5f5f5f\">╭────────────────────────── </span><span style=\"color: #afafaf; text-decoration-color: #afafaf\">Citation 1</span><span style=\"color: #5f5f5f; text-decoration-color: #5f5f5f\"> — </span><a href=\"https://en.wikipedia.org/wiki/Forgotten_Realms\" target=\"_blank\"><span style=\"color: #5f5f5f; text-decoration-color: #5f5f5f\">https://en.wikipedia.org/wiki/Forgotten_Realms</span></a><span style=\"color: #5f5f5f; text-decoration-color: #5f5f5f\"> ──────────────────────────╮</span>\n",
       "<span style=\"color: #5f5f5f; text-decoration-color: #5f5f5f\">│</span> <span style=\"color: #7f7f7f; text-decoration-color: #7f7f7f\">^ Tongue, Cassie (2024-12-19). \"Dungeons &amp; Dragons the Twenty-Sided Tavern review – interactive adventure </span>      <span style=\"color: #5f5f5f; text-decoration-color: #5f5f5f\">│</span>\n",
       "<span style=\"color: #5f5f5f; text-decoration-color: #5f5f5f\">│</span> <span style=\"color: #7f7f7f; text-decoration-color: #7f7f7f\">that's nail-biting fun\". The Guardian. Retrieved 2025-01-13.</span>                                                    <span style=\"color: #5f5f5f; text-decoration-color: #5f5f5f\">│</span>\n",
       "<span style=\"color: #5f5f5f; text-decoration-color: #5f5f5f\">│</span>                                                                                                                 <span style=\"color: #5f5f5f; text-decoration-color: #5f5f5f\">│</span>\n",
       "<span style=\"color: #5f5f5f; text-decoration-color: #5f5f5f\">│</span> <span style=\"color: #7f7f7f; text-decoration-color: #7f7f7f\">^ Ma, Wenlei (March 26, 2025). \"Satanic Panic and nerdy introverts: D&amp;D myths busted\". The Nightly. Retrieved </span>  <span style=\"color: #5f5f5f; text-decoration-color: #5f5f5f\">│</span>\n",
       "<span style=\"color: #5f5f5f; text-decoration-color: #5f5f5f\">│</span> <span style=\"color: #7f7f7f; text-decoration-color: #7f7f7f\">July 26, 2025.</span>                                                                                                  <span style=\"color: #5f5f5f; text-decoration-color: #5f5f5f\">│</span>\n",
       "<span style=\"color: #5f5f5f; text-decoration-color: #5f5f5f\">│</span>                                                                                                                 <span style=\"color: #5f5f5f; text-decoration-color: #5f5f5f\">│</span>\n",
       "<span style=\"color: #5f5f5f; text-decoration-color: #5f5f5f\">│</span> <span style=\"color: #7f7f7f; text-decoration-color: #7f7f7f\">^ Macgregor, Jody (December 9, 2023). \"D&amp;D's Revised Player's Handbook 'will be the biggest Player's Handbook </span>  <span style=\"color: #5f5f5f; text-decoration-color: #5f5f5f\">│</span>\n",
       "<span style=\"color: #5f5f5f; text-decoration-color: #5f5f5f\">│</span> <span style=\"color: #7f7f7f; text-decoration-color: #7f7f7f\">that D&amp;D has ever had', and like all the Revised core books will be compatible with the current edition\". PC </span>   <span style=\"color: #5f5f5f; text-decoration-color: #5f5f5f\">│</span>\n",
       "<span style=\"color: #5f5f5f; text-decoration-color: #5f5f5f\">│</span> <span style=\"color: #7f7f7f; text-decoration-color: #7f7f7f\">Gamer. Archived from the original on August 29, 2024. Retrieved December 10, 2023.</span>                              <span style=\"color: #5f5f5f; text-decoration-color: #5f5f5f\">│</span>\n",
       "<span style=\"color: #5f5f5f; text-decoration-color: #5f5f5f\">│</span>                                                                                                                 <span style=\"color: #5f5f5f; text-decoration-color: #5f5f5f\">│</span>\n",
       "<span style=\"color: #5f5f5f; text-decoration-color: #5f5f5f\">│</span> <span style=\"color: #7f7f7f; text-decoration-color: #7f7f7f\">^ Hoffer, Christian (June 26, 2024). \"Dungeons &amp; Dragons Confirms Big Change to Classes in 2024 Core </span>           <span style=\"color: #5f5f5f; text-decoration-color: #5f5f5f\">│</span>\n",
       "<span style=\"color: #5f5f5f; text-decoration-color: #5f5f5f\">│</span> <span style=\"color: #7f7f7f; text-decoration-color: #7f7f7f\">Rulebooks\". ComicBook.com. Archived from the original on August 29, 2024. Retrieved August 27, 2024.</span>            <span style=\"color: #5f5f5f; text-decoration-color: #5f5f5f\">│</span>\n",
       "<span style=\"color: #5f5f5f; text-decoration-color: #5f5f5f\">╰─────────────────────────────────────────────────────────────────────────────────────────────────────────────────╯</span>\n",
       "</pre>\n"
      ],
      "text/plain": [
       "\u001b[38;5;59m╭─\u001b[0m\u001b[38;5;59m─────────────────────────\u001b[0m\u001b[38;5;59m \u001b[0m\u001b[2;38;5;59mCitation 1\u001b[0m\u001b[38;5;59m — \u001b[0m\u001b]8;id=98246;https://en.wikipedia.org/wiki/Forgotten_Realms\u001b\\\u001b[38;5;59mhttps://en.wikipedia.org/wiki/Forgotten_Realms\u001b[0m\u001b]8;;\u001b\\\u001b[38;5;59m \u001b[0m\u001b[38;5;59m─────────────────────────\u001b[0m\u001b[38;5;59m─╮\u001b[0m\n",
       "\u001b[38;5;59m│\u001b[0m \u001b[2m^ Tongue, Cassie (2024-12-19). \"Dungeons & Dragons the Twenty-Sided Tavern review – interactive adventure \u001b[0m      \u001b[38;5;59m│\u001b[0m\n",
       "\u001b[38;5;59m│\u001b[0m \u001b[2mthat's nail-biting fun\". The Guardian. Retrieved 2025-01-13.\u001b[0m                                                    \u001b[38;5;59m│\u001b[0m\n",
       "\u001b[38;5;59m│\u001b[0m                                                                                                                 \u001b[38;5;59m│\u001b[0m\n",
       "\u001b[38;5;59m│\u001b[0m \u001b[2m^ Ma, Wenlei (March 26, 2025). \"Satanic Panic and nerdy introverts: D&D myths busted\". The Nightly. Retrieved \u001b[0m  \u001b[38;5;59m│\u001b[0m\n",
       "\u001b[38;5;59m│\u001b[0m \u001b[2mJuly 26, 2025.\u001b[0m                                                                                                  \u001b[38;5;59m│\u001b[0m\n",
       "\u001b[38;5;59m│\u001b[0m                                                                                                                 \u001b[38;5;59m│\u001b[0m\n",
       "\u001b[38;5;59m│\u001b[0m \u001b[2m^ Macgregor, Jody (December 9, 2023). \"D&D's Revised Player's Handbook 'will be the biggest Player's Handbook \u001b[0m  \u001b[38;5;59m│\u001b[0m\n",
       "\u001b[38;5;59m│\u001b[0m \u001b[2mthat D&D has ever had', and like all the Revised core books will be compatible with the current edition\". PC \u001b[0m   \u001b[38;5;59m│\u001b[0m\n",
       "\u001b[38;5;59m│\u001b[0m \u001b[2mGamer. Archived from the original on August 29, 2024. Retrieved December 10, 2023.\u001b[0m                              \u001b[38;5;59m│\u001b[0m\n",
       "\u001b[38;5;59m│\u001b[0m                                                                                                                 \u001b[38;5;59m│\u001b[0m\n",
       "\u001b[38;5;59m│\u001b[0m \u001b[2m^ Hoffer, Christian (June 26, 2024). \"Dungeons & Dragons Confirms Big Change to Classes in 2024 Core \u001b[0m           \u001b[38;5;59m│\u001b[0m\n",
       "\u001b[38;5;59m│\u001b[0m \u001b[2mRulebooks\". ComicBook.com. Archived from the original on August 29, 2024. Retrieved August 27, 2024.\u001b[0m            \u001b[38;5;59m│\u001b[0m\n",
       "\u001b[38;5;59m╰─────────────────────────────────────────────────────────────────────────────────────────────────────────────────╯\u001b[0m\n"
      ]
     },
     "metadata": {},
     "output_type": "display_data"
    },
    {
     "data": {
      "text/html": [
       "<pre style=\"white-space:pre;overflow-x:auto;line-height:normal;font-family:Menlo,'DejaVu Sans Mono',consolas,'Courier New',monospace\"><span style=\"color: #5f5f5f; text-decoration-color: #5f5f5f\">╭───────────────────────────── </span><span style=\"color: #afafaf; text-decoration-color: #afafaf\">Citation 2</span><span style=\"color: #5f5f5f; text-decoration-color: #5f5f5f\"> — </span><a href=\"https://en.wikipedia.org/wiki/Waterdeep\" target=\"_blank\"><span style=\"color: #5f5f5f; text-decoration-color: #5f5f5f\">https://en.wikipedia.org/wiki/Waterdeep</span></a><span style=\"color: #5f5f5f; text-decoration-color: #5f5f5f\"> ──────────────────────────────╮</span>\n",
       "<span style=\"color: #5f5f5f; text-decoration-color: #5f5f5f\">│</span> <span style=\"color: #7f7f7f; text-decoration-color: #7f7f7f\">^ Schick, Lawrence (1991). Heroic Worlds: A History and Guide to Role-Playing Games. Prometheus Books. ISBN </span>    <span style=\"color: #5f5f5f; text-decoration-color: #5f5f5f\">│</span>\n",
       "<span style=\"color: #5f5f5f; text-decoration-color: #5f5f5f\">│</span> <span style=\"color: #7f7f7f; text-decoration-color: #7f7f7f\">0-87975-653-5.</span>                                                                                                  <span style=\"color: #5f5f5f; text-decoration-color: #5f5f5f\">│</span>\n",
       "<span style=\"color: #5f5f5f; text-decoration-color: #5f5f5f\">│</span>                                                                                                                 <span style=\"color: #5f5f5f; text-decoration-color: #5f5f5f\">│</span>\n",
       "<span style=\"color: #5f5f5f; text-decoration-color: #5f5f5f\">│</span> <span style=\"color: #7f7f7f; text-decoration-color: #7f7f7f\">^ Canavan, Aidan-Paul (April 2011). Looting the Dungeon: The Quest for the Genre Fantasy Mega-Text (PDF) </span>       <span style=\"color: #5f5f5f; text-decoration-color: #5f5f5f\">│</span>\n",
       "<span style=\"color: #5f5f5f; text-decoration-color: #5f5f5f\">│</span> <span style=\"color: #7f7f7f; text-decoration-color: #7f7f7f\">(Thesis).</span>                                                                                                       <span style=\"color: #5f5f5f; text-decoration-color: #5f5f5f\">│</span>\n",
       "<span style=\"color: #5f5f5f; text-decoration-color: #5f5f5f\">│</span>                                                                                                                 <span style=\"color: #5f5f5f; text-decoration-color: #5f5f5f\">│</span>\n",
       "<span style=\"color: #5f5f5f; text-decoration-color: #5f5f5f\">│</span> <span style=\"color: #7f7f7f; text-decoration-color: #7f7f7f\">^ Stylo (March 2000). \"Der Norden\". Envoyer (41). FZ Werbung Hannover: 11–13. ISSN 1433-2892.</span>                   <span style=\"color: #5f5f5f; text-decoration-color: #5f5f5f\">│</span>\n",
       "<span style=\"color: #5f5f5f; text-decoration-color: #5f5f5f\">│</span>                                                                                                                 <span style=\"color: #5f5f5f; text-decoration-color: #5f5f5f\">│</span>\n",
       "<span style=\"color: #5f5f5f; text-decoration-color: #5f5f5f\">│</span> <span style=\"color: #7f7f7f; text-decoration-color: #7f7f7f\">^ Storm King's Thunder. Renton, WA: Wizards of the Coast. 2016. p. 74. ISBN 978-0-7869-6600-4. OCLC 951759698.</span>  <span style=\"color: #5f5f5f; text-decoration-color: #5f5f5f\">│</span>\n",
       "<span style=\"color: #5f5f5f; text-decoration-color: #5f5f5f\">│</span>                                                                                                                 <span style=\"color: #5f5f5f; text-decoration-color: #5f5f5f\">│</span>\n",
       "<span style=\"color: #5f5f5f; text-decoration-color: #5f5f5f\">│</span> <span style=\"color: #7f7f7f; text-decoration-color: #7f7f7f\">^ a b c d e \"Dungeons &amp; Dragons: Forgotten Realms Locations That Deserve to be Revisited\". Game Rant. </span>          <span style=\"color: #5f5f5f; text-decoration-color: #5f5f5f\">│</span>\n",
       "<span style=\"color: #5f5f5f; text-decoration-color: #5f5f5f\">│</span> <span style=\"color: #7f7f7f; text-decoration-color: #7f7f7f\">2020-01-09. Retrieved 2021-01-29.</span>                                                                               <span style=\"color: #5f5f5f; text-decoration-color: #5f5f5f\">│</span>\n",
       "<span style=\"color: #5f5f5f; text-decoration-color: #5f5f5f\">│</span>                                                                                                                 <span style=\"color: #5f5f5f; text-decoration-color: #5f5f5f\">│</span>\n",
       "<span style=\"color: #5f5f5f; text-decoration-color: #5f5f5f\">│</span> <span style=\"color: #7f7f7f; text-decoration-color: #7f7f7f\">^ \"D&amp;D: Faerun - Home Of The Iconic Forgotten Realms\". Bell of Lost Souls. 2019-06-01. Retrieved 2021-01-29.</span>    <span style=\"color: #5f5f5f; text-decoration-color: #5f5f5f\">│</span>\n",
       "<span style=\"color: #5f5f5f; text-decoration-color: #5f5f5f\">╰─────────────────────────────────────────────────────────────────────────────────────────────────────────────────╯</span>\n",
       "</pre>\n"
      ],
      "text/plain": [
       "\u001b[38;5;59m╭─\u001b[0m\u001b[38;5;59m────────────────────────────\u001b[0m\u001b[38;5;59m \u001b[0m\u001b[2;38;5;59mCitation 2\u001b[0m\u001b[38;5;59m — \u001b[0m\u001b]8;id=243962;https://en.wikipedia.org/wiki/Waterdeep\u001b\\\u001b[38;5;59mhttps://en.wikipedia.org/wiki/Waterdeep\u001b[0m\u001b]8;;\u001b\\\u001b[38;5;59m \u001b[0m\u001b[38;5;59m─────────────────────────────\u001b[0m\u001b[38;5;59m─╮\u001b[0m\n",
       "\u001b[38;5;59m│\u001b[0m \u001b[2m^ Schick, Lawrence (1991). Heroic Worlds: A History and Guide to Role-Playing Games. Prometheus Books. ISBN \u001b[0m    \u001b[38;5;59m│\u001b[0m\n",
       "\u001b[38;5;59m│\u001b[0m \u001b[2m0-87975-653-5.\u001b[0m                                                                                                  \u001b[38;5;59m│\u001b[0m\n",
       "\u001b[38;5;59m│\u001b[0m                                                                                                                 \u001b[38;5;59m│\u001b[0m\n",
       "\u001b[38;5;59m│\u001b[0m \u001b[2m^ Canavan, Aidan-Paul (April 2011). Looting the Dungeon: The Quest for the Genre Fantasy Mega-Text (PDF) \u001b[0m       \u001b[38;5;59m│\u001b[0m\n",
       "\u001b[38;5;59m│\u001b[0m \u001b[2m(Thesis).\u001b[0m                                                                                                       \u001b[38;5;59m│\u001b[0m\n",
       "\u001b[38;5;59m│\u001b[0m                                                                                                                 \u001b[38;5;59m│\u001b[0m\n",
       "\u001b[38;5;59m│\u001b[0m \u001b[2m^ Stylo (March 2000). \"Der Norden\". Envoyer (41). FZ Werbung Hannover: 11–13. ISSN 1433-2892.\u001b[0m                   \u001b[38;5;59m│\u001b[0m\n",
       "\u001b[38;5;59m│\u001b[0m                                                                                                                 \u001b[38;5;59m│\u001b[0m\n",
       "\u001b[38;5;59m│\u001b[0m \u001b[2m^ Storm King's Thunder. Renton, WA: Wizards of the Coast. 2016. p. 74. ISBN 978-0-7869-6600-4. OCLC 951759698.\u001b[0m  \u001b[38;5;59m│\u001b[0m\n",
       "\u001b[38;5;59m│\u001b[0m                                                                                                                 \u001b[38;5;59m│\u001b[0m\n",
       "\u001b[38;5;59m│\u001b[0m \u001b[2m^ a b c d e \"Dungeons & Dragons: Forgotten Realms Locations That Deserve to be Revisited\". Game Rant. \u001b[0m          \u001b[38;5;59m│\u001b[0m\n",
       "\u001b[38;5;59m│\u001b[0m \u001b[2m2020-01-09. Retrieved 2021-01-29.\u001b[0m                                                                               \u001b[38;5;59m│\u001b[0m\n",
       "\u001b[38;5;59m│\u001b[0m                                                                                                                 \u001b[38;5;59m│\u001b[0m\n",
       "\u001b[38;5;59m│\u001b[0m \u001b[2m^ \"D&D: Faerun - Home Of The Iconic Forgotten Realms\". Bell of Lost Souls. 2019-06-01. Retrieved 2021-01-29.\u001b[0m    \u001b[38;5;59m│\u001b[0m\n",
       "\u001b[38;5;59m╰─────────────────────────────────────────────────────────────────────────────────────────────────────────────────╯\u001b[0m\n"
      ]
     },
     "metadata": {},
     "output_type": "display_data"
    }
   ],
   "source": [
    "question = \"Tell me about player classes in Dungeons and Dragons?\"\n",
    "rprint(Panel.fit(question, title=\"[bold cyan]User Question[/bold cyan]\"))\n",
    "\n",
    "passages = lore_search(question)\n",
    "summary = summarize_passages(passages, max_sents=3)\n",
    "\n",
    "rprint(Panel.fit(summary, title=\"[bold green]Answer[/bold green]\"))\n",
    "print_lore_results(passages, max_citations=2)"
   ]
  },
  {
   "cell_type": "code",
   "execution_count": 92,
   "id": "2d4628cc-abc4-4d34-b6a6-f4a00c6010af",
   "metadata": {},
   "outputs": [
    {
     "data": {
      "text/html": [
       "<pre style=\"white-space:pre;overflow-x:auto;line-height:normal;font-family:Menlo,'DejaVu Sans Mono',consolas,'Courier New',monospace\">╭─────────── <span style=\"color: #008080; text-decoration-color: #008080; font-weight: bold\">User Question</span> ───────────╮\n",
       "│ What are some Faerun key locations? │\n",
       "╰─────────────────────────────────────╯\n",
       "</pre>\n"
      ],
      "text/plain": [
       "╭─────────── \u001b[1;36mUser Question\u001b[0m ───────────╮\n",
       "│ What are some Faerun key locations? │\n",
       "╰─────────────────────────────────────╯\n"
      ]
     },
     "metadata": {},
     "output_type": "display_data"
    },
    {
     "data": {
      "text/html": [
       "<pre style=\"white-space:pre;overflow-x:auto;line-height:normal;font-family:Menlo,'DejaVu Sans Mono',consolas,'Courier New',monospace\">╭───────────────────────────────────────────────── <span style=\"color: #008000; text-decoration-color: #008000; font-weight: bold\">Answer</span> ──────────────────────────────────────────────────╮\n",
       "│ i$�R���u��\u0006��l�Q�1f�9�T���#\u0001�E^�m�`:@*U������s������nS�{�㫾������\u001c",
       "�th�8\u0012�2`~]W5~)Ķ��l�&lt;���Q\u0003Ӥ\u001f�\u0000���\u0013�\u0010`�D�*�ֿ       │\n",
       "│ �:]ޕ�|����i�����摸\u0012F�68�|����X\u001fk5\u0003�5&lt;WO�c��\u0000k�\u0001č\u0001�rQ:���4��\u001f��h���:�u\u0001��56�\u001aǃ#V���\u0003\u001c",
       "                                 │\n",
       "│ ;��t�%�8�V�QǪ�X�5����{���\u0013?�������s�\\y�F���R��_S��F��\u001c",
       "�.^OX��X\u0003\u001c",
       "0����64\u0002&gt;%Xu���\u001c",
       "U+l%��N�y                       │\n",
       "│ \u000ei�&gt;I��d���Lx��$�JT�f����7PB-�գ����wB�n�ȇ\u0001�\u001d",
       "�\u001c",
       "��C�LhH�����IB���!����\u001c",
       "��k�&lt;r�\u001c",
       "�\u0019�@��\u001a�\u001f                             │\n",
       "│ \u0015^ܰ&lt;��N{�C�T�ڜ�_Á�RS/�\u0012\u0006�Gw�D��Sm/v�\u0006Ѻ\u000fq�Z�\u0001 �x&gt;(N�$�M���H���:��\u001btl\u0002F�&gt;j͙a�,��`@\u0003�lr\\�s�q?F5&gt;i��\u0005v��\u0016���)2�6 ��        │\n",
       "│ D�\u0010��:#�l��k���M�0Hd\u000e�{���p�Ϛ����sm�����*�2\u0000����f�&gt;�\u0012I$��E����5 ��� �os\u001a     �{��ȳ$��\u001d",
       "�c_�@��                   │\n",
       "│ \u0010Lq�lj\u0018��lk{k���\u0011������\u001e",
       "�4��\u0003\u0018�,\u0004\u000f�-�\u001e",
       "����\\�^᮰\u0011\u0012\u0001vIp&amp;_@�אD���������;��!ڠ��;N�e\u0017�]1\\l\u0013\u0004r����u=�����{�ޥ��N       &gt;���t     │\n",
       "╰───────────────────────────────────────────────────────────────────────────────────────────────────────────╯\n",
       "</pre>\n"
      ],
      "text/plain": [
       "╭───────────────────────────────────────────────── \u001b[1;32mAnswer\u001b[0m ──────────────────────────────────────────────────╮\n",
       "│ i$�R���u��\u0006��l�Q�1f�9�T���#\u0001�E^�m�`:@*U������s������nS�{�㫾������\u001c",
       "�th�8\u0012�2`~]W5~)Ķ��l�<���Q\u0003Ӥ\u001f�\u0000���\u0013�\u0010`�D�*�ֿ       │\n",
       "│ �:]ޕ�|����i�����摸\u0012F�68�|����X\u001fk5\u0003�5<WO�c��\u0000k�\u0001č\u0001�rQ:���4��\u001f��h���:�u\u0001��56�\u001aǃ#V���\u0003\u001c",
       "                                 │\n",
       "│ ;��t�%�8�V�QǪ�X�5����{���\u0013?�������s�\\y�F���R��_S��F��\u001c",
       "�.^OX��X\u0003\u001c",
       "0����64\u0002>%Xu���\u001c",
       "U+l%��N�y                       │\n",
       "│ \u000ei�>I��d���Lx��$�JT�f����7PB-�գ����wB�n�ȇ\u0001�\u001d",
       "�\u001c",
       "��C�LhH�����IB���!����\u001c",
       "��k�<r�\u001c",
       "�\u0019�@��\u001a�\u001f                             │\n",
       "│ \u0015^ܰ<��N{�C�T�ڜ�_Á�RS/�\u0012\u0006�Gw�D��Sm/v�\u0006Ѻ\u000fq�Z�\u0001 �x>(N�$�M���H���:��\u001btl\u0002F�>j͙a�,��`@\u0003�lr\\�s�q?F5>i��\u0005v��\u0016���)2�6 ��        │\n",
       "│ D�\u0010��:#�l��k���M�0Hd\u000e�{���p�Ϛ����sm�����*�2\u0000����f�>�\u0012I$��E����5 ��� �os\u001a     �{��ȳ$��\u001d",
       "�c_�@��                   │\n",
       "│ \u0010Lq�lj\u0018��lk{k���\u0011������\u001e",
       "�4��\u0003\u0018�,\u0004\u000f�-�\u001e",
       "����\\�^᮰\u0011\u0012\u0001vIp&_@�אD���������;��!ڠ��;N�e\u0017�]1\\l\u0013\u0004r����u=�����{�ޥ��N       >���t     │\n",
       "╰───────────────────────────────────────────────────────────────────────────────────────────────────────────╯\n"
      ]
     },
     "metadata": {},
     "output_type": "display_data"
    },
    {
     "data": {
      "text/html": [
       "<pre style=\"white-space:pre;overflow-x:auto;line-height:normal;font-family:Menlo,'DejaVu Sans Mono',consolas,'Courier New',monospace\">                                                                                                                   \n",
       "                                                      <span style=\"color: #c0c0c0; text-decoration-color: #c0c0c0; font-weight: bold; text-decoration: underline\">Answer</span>                                                       \n",
       "                                                                                                                   \n",
       "</pre>\n"
      ],
      "text/plain": [
       "                                                                                                                   \n",
       "                                                      \u001b[1;4;37mAnswer\u001b[0m                                                       \n",
       "                                                                                                                   \n"
      ]
     },
     "metadata": {},
     "output_type": "display_data"
    },
    {
     "data": {
      "text/html": [
       "<pre style=\"white-space:pre;overflow-x:auto;line-height:normal;font-family:Menlo,'DejaVu Sans Mono',consolas,'Courier New',monospace\"><span style=\"color: #ffff00; text-decoration-color: #ffff00\">╭────────────────────────────────────────────── </span><span style=\"color: #808000; text-decoration-color: #808000; font-weight: bold\">Synthesized Summary</span><span style=\"color: #ffff00; text-decoration-color: #ffff00\"> ──────────────────────────────────────────────╮</span>\n",
       "<span style=\"color: #ffff00; text-decoration-color: #ffff00\">│</span> i$�R���u��\u0006��l�Q�1f�9�T���#\u0001�E^�m�<span style=\"color: #008080; text-decoration-color: #008080; background-color: #000000; font-weight: bold\">:@*U������s������nS�{�㫾������\u001c",
       "�th�8\u0012�2</span>~]W5~)Ķ��l�&lt;���Q\u0003Ӥ\u001f�����\u0013�\u0010` �D�*�ֿ\u001e",
       "             <span style=\"color: #ffff00; text-decoration-color: #ffff00\">│</span>\n",
       "<span style=\"color: #ffff00; text-decoration-color: #ffff00\">│</span> �:]ޕ�|����i�����摸\u0012F�68�|����X\u001fk5\u0003�5&lt; WO�c���k�\u0001č\u0001�rQ:���4��\u001f��h���:�u\u0001��56�\u001aǃ#V���\u0003\u001c",
       ";��                                  <span style=\"color: #ffff00; text-decoration-color: #ffff00\">│</span>\n",
       "<span style=\"color: #ffff00; text-decoration-color: #ffff00\">│</span> t�%�8�V�QǪ�X�5����{���\u0013?�������s�\\y�F���R��_S��F��\u001c",
       "�.^OX��X\u0003\u001c",
       "0����64\u0002&gt;%Xu���\u001c",
       "U+l%��N�y                                <span style=\"color: #ffff00; text-decoration-color: #ffff00\">│</span>\n",
       "<span style=\"color: #ffff00; text-decoration-color: #ffff00\">╰─────────────────────────────────────────────────────────────────────────────────────────────────────────────────╯</span>\n",
       "</pre>\n"
      ],
      "text/plain": [
       "\u001b[93m╭─\u001b[0m\u001b[93m─────────────────────────────────────────────\u001b[0m\u001b[93m \u001b[0m\u001b[1;33mSynthesized Summary\u001b[0m\u001b[93m \u001b[0m\u001b[93m─────────────────────────────────────────────\u001b[0m\u001b[93m─╮\u001b[0m\n",
       "\u001b[93m│\u001b[0m i$�R���u��\u0006��l�Q�1f�9�T���#\u0001�E^�m�\u001b[1;36;40m:@*U������s������nS�{�㫾������\u001c",
       "�th�8\u0012�2\u001b[0m~]W5~)Ķ��l�<���Q\u0003Ӥ\u001f�����\u0013�\u0010` �D�*�ֿ\u001e",
       "             \u001b[93m│\u001b[0m\n",
       "\u001b[93m│\u001b[0m �:]ޕ�|����i�����摸\u0012F�68�|����X\u001fk5\u0003�5< WO�c���k�\u0001č\u0001�rQ:���4��\u001f��h���:�u\u0001��56�\u001aǃ#V���\u0003\u001c",
       ";��                                  \u001b[93m│\u001b[0m\n",
       "\u001b[93m│\u001b[0m t�%�8�V�QǪ�X�5����{���\u0013?�������s�\\y�F���R��_S��F��\u001c",
       "�.^OX��X\u0003\u001c",
       "0����64\u0002>%Xu���\u001c",
       "U+l%��N�y                                \u001b[93m│\u001b[0m\n",
       "\u001b[93m╰─────────────────────────────────────────────────────────────────────────────────────────────────────────────────╯\u001b[0m\n"
      ]
     },
     "metadata": {},
     "output_type": "display_data"
    },
    {
     "data": {
      "text/html": [
       "<pre style=\"white-space:pre;overflow-x:auto;line-height:normal;font-family:Menlo,'DejaVu Sans Mono',consolas,'Courier New',monospace\">                                                                                                                   \n",
       "                                                   <span style=\"color: #7f7f7f; text-decoration-color: #7f7f7f; text-decoration: underline\">Top Citations</span>                                                   \n",
       "</pre>\n"
      ],
      "text/plain": [
       "                                                                                                                   \n",
       "                                                   \u001b[2;4mTop Citations\u001b[0m                                                   \n"
      ]
     },
     "metadata": {},
     "output_type": "display_data"
    },
    {
     "data": {
      "text/html": [
       "<pre style=\"white-space:pre;overflow-x:auto;line-height:normal;font-family:Menlo,'DejaVu Sans Mono',consolas,'Courier New',monospace\"><span style=\"color: #5f5f5f; text-decoration-color: #5f5f5f\">╭─ </span><span style=\"color: #afafaf; text-decoration-color: #afafaf\">Citation 1</span><span style=\"color: #5f5f5f; text-decoration-color: #5f5f5f\"> — </span><a href=\"https://chaosrpg.wordpress.com/wp-content/uploads/2009/10/forgotten-realms-players-guide.pdf\" target=\"_blank\"><span style=\"color: #5f5f5f; text-decoration-color: #5f5f5f\">https://chaosrpg.wordpress.com/wp-content/uploads/2009/10/forgotten-realms-players-guide.pdf</span></a><span style=\"color: #5f5f5f; text-decoration-color: #5f5f5f\"> ─╮</span>\n",
       "<span style=\"color: #5f5f5f; text-decoration-color: #5f5f5f\">│</span> <span style=\"color: #7f7f7f; text-decoration-color: #7f7f7f\">i$�R���u��\u0006��l�Q�1f�9�T���#\u0001�E^�m�`:@*U������s������nS�{�㫾������\u001c",
       "�th�8\u0012�2`~]W5~)Ķ��l�&lt;���Q\u0003Ӥ\u001f�\u0000���\u0013�\u0010`�D�*�ֿ</span>         <span style=\"color: #5f5f5f; text-decoration-color: #5f5f5f\">│</span>\n",
       "<span style=\"color: #5f5f5f; text-decoration-color: #5f5f5f\">│</span> <span style=\"color: #7f7f7f; text-decoration-color: #7f7f7f\">�:]ޕ�|����i�����摸\u0012F�68�|����X\u001fk5\u0003�5&lt;WO�c��\u0000k�\u0001č\u0001�rQ:���4��\u001f��h���:�u\u0001��56�\u001aǃ#V���\u0003\u001c",
       "</span>                                   <span style=\"color: #5f5f5f; text-decoration-color: #5f5f5f\">│</span>\n",
       "<span style=\"color: #5f5f5f; text-decoration-color: #5f5f5f\">│</span> <span style=\"color: #7f7f7f; text-decoration-color: #7f7f7f\">;��t�%�8�V�QǪ�X�5����{���\u0013?�������s�\\y�F���R��_S��F��\u001c",
       "�.^OX��X\u0003\u001c",
       "0����64\u0002&gt;%Xu���\u001c",
       "U+l%��N�y</span>                         <span style=\"color: #5f5f5f; text-decoration-color: #5f5f5f\">│</span>\n",
       "<span style=\"color: #5f5f5f; text-decoration-color: #5f5f5f\">╰─────────────────────────────────────────────────────────────────────────────────────────────────────────────╯</span>\n",
       "</pre>\n"
      ],
      "text/plain": [
       "\u001b[38;5;59m╭─\u001b[0m\u001b[38;5;59m \u001b[0m\u001b[2;38;5;59mCitation 1\u001b[0m\u001b[38;5;59m — \u001b[0m\u001b]8;id=27824;https://chaosrpg.wordpress.com/wp-content/uploads/2009/10/forgotten-realms-players-guide.pdf\u001b\\\u001b[38;5;59mhttps://chaosrpg.wordpress.com/wp-content/uploads/2009/10/forgotten-realms-players-guide.pdf\u001b[0m\u001b]8;;\u001b\\\u001b[38;5;59m \u001b[0m\u001b[38;5;59m─╮\u001b[0m\n",
       "\u001b[38;5;59m│\u001b[0m \u001b[2mi$�R���u��\u0006��l�Q�1f�9�T���#\u0001�E^�m�`:@*U������s������nS�{�㫾������\u001c",
       "�th�8\u0012�2`~]W5~)Ķ��l�<���Q\u0003Ӥ\u001f�\u0000���\u0013�\u0010`�D�*�ֿ\u001b[0m         \u001b[38;5;59m│\u001b[0m\n",
       "\u001b[38;5;59m│\u001b[0m \u001b[2m�:]ޕ�|����i�����摸\u0012F�68�|����X\u001fk5\u0003�5<WO�c��\u0000k�\u0001č\u0001�rQ:���4��\u001f��h���:�u\u0001��56�\u001aǃ#V���\u0003\u001c",
       "\u001b[0m                                   \u001b[38;5;59m│\u001b[0m\n",
       "\u001b[38;5;59m│\u001b[0m \u001b[2m;��t�%�8�V�QǪ�X�5����{���\u0013?�������s�\\y�F���R��_S��F��\u001c",
       "�.^OX��X\u0003\u001c",
       "0����64\u0002>%Xu���\u001c",
       "U+l%��N�y\u001b[0m                         \u001b[38;5;59m│\u001b[0m\n",
       "\u001b[38;5;59m╰─────────────────────────────────────────────────────────────────────────────────────────────────────────────╯\u001b[0m\n"
      ]
     },
     "metadata": {},
     "output_type": "display_data"
    },
    {
     "data": {
      "text/html": [
       "<pre style=\"white-space:pre;overflow-x:auto;line-height:normal;font-family:Menlo,'DejaVu Sans Mono',consolas,'Courier New',monospace\"><span style=\"color: #5f5f5f; text-decoration-color: #5f5f5f\">╭─ </span><span style=\"color: #afafaf; text-decoration-color: #afafaf\">Citation 2</span><span style=\"color: #5f5f5f; text-decoration-color: #5f5f5f\"> — </span><a href=\"https://chaosrpg.wordpress.com/wp-content/uploads/2009/10/forgotten-realms-players-guide.pdf\" target=\"_blank\"><span style=\"color: #5f5f5f; text-decoration-color: #5f5f5f\">https://chaosrpg.wordpress.com/wp-content/uploads/2009/10/forgotten-realms-players-guide.pdf</span></a><span style=\"color: #5f5f5f; text-decoration-color: #5f5f5f\"> ─╮</span>\n",
       "<span style=\"color: #5f5f5f; text-decoration-color: #5f5f5f\">│</span> <span style=\"color: #7f7f7f; text-decoration-color: #7f7f7f\">\u000ei�&gt;I��d���Lx��$�JT�f����7PB-�գ����wB�n�ȇ\u0001�\u001d",
       "�\u001c",
       "��C�LhH�����IB���!����\u001c",
       "��k�&lt;r�\u001c",
       "�\u0019�@��\u001a�\u001f</span>                               <span style=\"color: #5f5f5f; text-decoration-color: #5f5f5f\">│</span>\n",
       "<span style=\"color: #5f5f5f; text-decoration-color: #5f5f5f\">│</span> <span style=\"color: #7f7f7f; text-decoration-color: #7f7f7f\">\u0015^ܰ&lt;��N{�C�T�ڜ�_Á�RS/�\u0012\u0006�Gw�D��Sm/v�\u0006Ѻ\u000fq�Z�\u0001 �x&gt;(N�$�M���H���:��\u001btl\u0002F�&gt;j͙a�,��`@\u0003�lr\\�s�q?F5&gt;i��\u0005v��\u0016���)2�6 ��</span>          <span style=\"color: #5f5f5f; text-decoration-color: #5f5f5f\">│</span>\n",
       "<span style=\"color: #5f5f5f; text-decoration-color: #5f5f5f\">│</span> <span style=\"color: #7f7f7f; text-decoration-color: #7f7f7f\">D�\u0010��:#�l��k���M�0Hd\u000e�{���p�Ϛ����sm�����*�2\u0000����f�&gt;�\u0012I$��E����5 ���</span>                                             <span style=\"color: #5f5f5f; text-decoration-color: #5f5f5f\">│</span>\n",
       "<span style=\"color: #5f5f5f; text-decoration-color: #5f5f5f\">╰─────────────────────────────────────────────────────────────────────────────────────────────────────────────╯</span>\n",
       "</pre>\n"
      ],
      "text/plain": [
       "\u001b[38;5;59m╭─\u001b[0m\u001b[38;5;59m \u001b[0m\u001b[2;38;5;59mCitation 2\u001b[0m\u001b[38;5;59m — \u001b[0m\u001b]8;id=208496;https://chaosrpg.wordpress.com/wp-content/uploads/2009/10/forgotten-realms-players-guide.pdf\u001b\\\u001b[38;5;59mhttps://chaosrpg.wordpress.com/wp-content/uploads/2009/10/forgotten-realms-players-guide.pdf\u001b[0m\u001b]8;;\u001b\\\u001b[38;5;59m \u001b[0m\u001b[38;5;59m─╮\u001b[0m\n",
       "\u001b[38;5;59m│\u001b[0m \u001b[2m\u000ei�>I��d���Lx��$�JT�f����7PB-�գ����wB�n�ȇ\u0001�\u001d",
       "�\u001c",
       "��C�LhH�����IB���!����\u001c",
       "��k�<r�\u001c",
       "�\u0019�@��\u001a�\u001f\u001b[0m                               \u001b[38;5;59m│\u001b[0m\n",
       "\u001b[38;5;59m│\u001b[0m \u001b[2m\u0015^ܰ<��N{�C�T�ڜ�_Á�RS/�\u0012\u0006�Gw�D��Sm/v�\u0006Ѻ\u000fq�Z�\u0001 �x>(N�$�M���H���:��\u001btl\u0002F�>j͙a�,��`@\u0003�lr\\�s�q?F5>i��\u0005v��\u0016���)2�6 ��\u001b[0m          \u001b[38;5;59m│\u001b[0m\n",
       "\u001b[38;5;59m│\u001b[0m \u001b[2mD�\u0010��:#�l��k���M�0Hd\u000e�{���p�Ϛ����sm�����*�2\u0000����f�>�\u0012I$��E����5 ���\u001b[0m                                             \u001b[38;5;59m│\u001b[0m\n",
       "\u001b[38;5;59m╰─────────────────────────────────────────────────────────────────────────────────────────────────────────────╯\u001b[0m\n"
      ]
     },
     "metadata": {},
     "output_type": "display_data"
    }
   ],
   "source": [
    "question = \"What are some Faerun key locations?\"\n",
    "rprint(Panel.fit(question, title=\"[bold cyan]User Question[/bold cyan]\"))\n",
    "\n",
    "passages = lore_search(question)\n",
    "summary = summarize_passages(passages, max_sents=3)\n",
    "\n",
    "rprint(Panel.fit(summary, title=\"[bold green]Answer[/bold green]\"))\n",
    "print_lore_results(passages, max_citations=2)"
   ]
  },
  {
   "cell_type": "markdown",
   "id": "b877d776",
   "metadata": {},
   "source": [
    "## Demo of Rules Lookup"
   ]
  },
  {
   "cell_type": "code",
   "execution_count": 62,
   "id": "8958b120",
   "metadata": {},
   "outputs": [
    {
     "data": {
      "text/html": [
       "<pre style=\"white-space:pre;overflow-x:auto;line-height:normal;font-family:Menlo,'DejaVu Sans Mono',consolas,'Courier New',monospace\">╭──────────────── Rules Table ────────────────╮\n",
       "│ | name    | type     |   ac |   hp |   cr | │\n",
       "│ |---------|----------|------|------|------| │\n",
       "│ | Spy     | humanoid |   12 |   27 |    1 | │\n",
       "│ | Veteran | humanoid |   17 |   58 |    3 | │\n",
       "╰─────────────────────────────────────────────╯\n",
       "</pre>\n"
      ],
      "text/plain": [
       "╭──────────────── Rules Table ────────────────╮\n",
       "│ | name    | type     |   ac |   hp |   cr | │\n",
       "│ |---------|----------|------|------|------| │\n",
       "│ | Spy     | humanoid |   12 |   27 |    1 | │\n",
       "│ | Veteran | humanoid |   17 |   58 |    3 | │\n",
       "╰─────────────────────────────────────────────╯\n"
      ]
     },
     "metadata": {},
     "output_type": "display_data"
    }
   ],
   "source": [
    "df_rules = run_sql(\n",
    "    \"\"\"\n",
    "    SELECT name, type, ac, hp, cr\n",
    "    FROM monsters\n",
    "    WHERE type='humanoid' AND cr >= 1.0 AND cr <= 3.0\n",
    "    ORDER BY cr ASC\n",
    "    LIMIT 8;\n",
    "    \"\"\"\n",
    ")\n",
    "rprint(Panel.fit(table(df_rules), title='Rules Table'))\n"
   ]
  },
  {
   "cell_type": "markdown",
   "id": "96aaca10",
   "metadata": {},
   "source": [
    "## Demo of DM Prep"
   ]
  },
  {
   "cell_type": "code",
   "execution_count": 63,
   "id": "00de6468",
   "metadata": {},
   "outputs": [
    {
     "data": {
      "text/html": [
       "<pre style=\"white-space:pre;overflow-x:auto;line-height:normal;font-family:Menlo,'DejaVu Sans Mono',consolas,'Courier New',monospace\">╭────────────────────────────────────────────── Quest ───────────────────────────────────────────────╮\n",
       "│ {                                                                                                  │\n",
       "│   \"title\": \"Shadows at the Docks of Baldur's Gate\",                                                │\n",
       "│   \"tier\": \"Tier 1 (Levels 1\\u20134)\",                                                              │\n",
       "│   \"premise\": \"The Harpers seek discreet help to disrupt a smuggling ring undermining fair trade.\", │\n",
       "│   \"beats\": [                                                                                       │\n",
       "│     \"Meet the contact in a busy tavern and learn recent incidents.\",                               │\n",
       "│     \"Shadow suspected warehouses along the waterfront.\",                                           │\n",
       "│     \"Expose the ring-leader and secure incriminating manifests.\"                                   │\n",
       "│   ],                                                                                               │\n",
       "│   \"complications\": [                                                                               │\n",
       "│     \"The City Watch is on edge; too much noise draws attention.\",                                  │\n",
       "│     \"A rival fixer tries to hire the party for a double-cross.\"                                    │\n",
       "│   ],                                                                                               │\n",
       "│   \"reward\": \"100 gp each, a minor magical trinket, and faction goodwill.\",                         │\n",
       "│   \"citations\": [                                                                                   │\n",
       "│     1,                                                                                             │\n",
       "│     2                                                                                              │\n",
       "│   ]                                                                                                │\n",
       "│ }                                                                                                  │\n",
       "╰────────────────────────────────────────────────────────────────────────────────────────────────────╯\n",
       "</pre>\n"
      ],
      "text/plain": [
       "╭────────────────────────────────────────────── Quest ───────────────────────────────────────────────╮\n",
       "│ {                                                                                                  │\n",
       "│   \"title\": \"Shadows at the Docks of Baldur's Gate\",                                                │\n",
       "│   \"tier\": \"Tier 1 (Levels 1\\u20134)\",                                                              │\n",
       "│   \"premise\": \"The Harpers seek discreet help to disrupt a smuggling ring undermining fair trade.\", │\n",
       "│   \"beats\": [                                                                                       │\n",
       "│     \"Meet the contact in a busy tavern and learn recent incidents.\",                               │\n",
       "│     \"Shadow suspected warehouses along the waterfront.\",                                           │\n",
       "│     \"Expose the ring-leader and secure incriminating manifests.\"                                   │\n",
       "│   ],                                                                                               │\n",
       "│   \"complications\": [                                                                               │\n",
       "│     \"The City Watch is on edge; too much noise draws attention.\",                                  │\n",
       "│     \"A rival fixer tries to hire the party for a double-cross.\"                                    │\n",
       "│   ],                                                                                               │\n",
       "│   \"reward\": \"100 gp each, a minor magical trinket, and faction goodwill.\",                         │\n",
       "│   \"citations\": [                                                                                   │\n",
       "│     1,                                                                                             │\n",
       "│     2                                                                                              │\n",
       "│   ]                                                                                                │\n",
       "│ }                                                                                                  │\n",
       "╰────────────────────────────────────────────────────────────────────────────────────────────────────╯\n"
      ]
     },
     "metadata": {},
     "output_type": "display_data"
    },
    {
     "data": {
      "text/html": [
       "<pre style=\"white-space:pre;overflow-x:auto;line-height:normal;font-family:Menlo,'DejaVu Sans Mono',consolas,'Courier New',monospace\">╭──────────────────────────────────── NPC ─────────────────────────────────────╮\n",
       "│ {                                                                            │\n",
       "│   \"name\": \"Mirael Thornquill\",                                               │\n",
       "│   \"role\": \"Harbor informant\",                                                │\n",
       "│   \"faction\": \"Harpers\",                                                      │\n",
       "│   \"motivation\": \"Keep trade fair and people safe without starting a war.\",   │\n",
       "│   \"secret\": \"Previously smuggled information for leverage; fears exposure.\", │\n",
       "│   \"quirks\": \"Hums old harbor shanties when thinking.\",                       │\n",
       "│   \"stat_suggestion\": \"Spy (MM) or Guard, depending on tone.\",                │\n",
       "│   \"citations\": [                                                             │\n",
       "│     1,                                                                       │\n",
       "│     2                                                                        │\n",
       "│   ]                                                                          │\n",
       "│ }                                                                            │\n",
       "╰──────────────────────────────────────────────────────────────────────────────╯\n",
       "</pre>\n"
      ],
      "text/plain": [
       "╭──────────────────────────────────── NPC ─────────────────────────────────────╮\n",
       "│ {                                                                            │\n",
       "│   \"name\": \"Mirael Thornquill\",                                               │\n",
       "│   \"role\": \"Harbor informant\",                                                │\n",
       "│   \"faction\": \"Harpers\",                                                      │\n",
       "│   \"motivation\": \"Keep trade fair and people safe without starting a war.\",   │\n",
       "│   \"secret\": \"Previously smuggled information for leverage; fears exposure.\", │\n",
       "│   \"quirks\": \"Hums old harbor shanties when thinking.\",                       │\n",
       "│   \"stat_suggestion\": \"Spy (MM) or Guard, depending on tone.\",                │\n",
       "│   \"citations\": [                                                             │\n",
       "│     1,                                                                       │\n",
       "│     2                                                                        │\n",
       "│   ]                                                                          │\n",
       "│ }                                                                            │\n",
       "╰──────────────────────────────────────────────────────────────────────────────╯\n"
      ]
     },
     "metadata": {},
     "output_type": "display_data"
    },
    {
     "data": {
      "text/html": [
       "<pre style=\"white-space:pre;overflow-x:auto;line-height:normal;font-family:Menlo,'DejaVu Sans Mono',consolas,'Courier New',monospace\">╭─────────────────────────────────────── Encounter ────────────────────────────────────────╮\n",
       "│ {                                                                                        │\n",
       "│   \"environment\": \"Foggy docks at midnight\",                                              │\n",
       "│   \"enemies\": [                                                                           │\n",
       "│     {                                                                                    │\n",
       "│       \"name\": \"Spy\",                                                                     │\n",
       "│       \"type\": \"humanoid\",                                                                │\n",
       "│       \"ac\": 12,                                                                          │\n",
       "│       \"hp\": 27,                                                                          │\n",
       "│       \"cr\": 1.0                                                                          │\n",
       "│     },                                                                                   │\n",
       "│     {                                                                                    │\n",
       "│       \"name\": \"Veteran\",                                                                 │\n",
       "│       \"type\": \"humanoid\",                                                                │\n",
       "│       \"ac\": 17,                                                                          │\n",
       "│       \"hp\": 58,                                                                          │\n",
       "│       \"cr\": 3.0                                                                          │\n",
       "│     }                                                                                    │\n",
       "│   ],                                                                                     │\n",
       "│   \"tactics\": \"Strike from cover, withdraw to alleys; one scout runs to warn a veteran.\", │\n",
       "│   \"scaling_notes\": \"Add a Veteran at high end; remove a Spy at low end.\"                 │\n",
       "│ }                                                                                        │\n",
       "╰──────────────────────────────────────────────────────────────────────────────────────────╯\n",
       "</pre>\n"
      ],
      "text/plain": [
       "╭─────────────────────────────────────── Encounter ────────────────────────────────────────╮\n",
       "│ {                                                                                        │\n",
       "│   \"environment\": \"Foggy docks at midnight\",                                              │\n",
       "│   \"enemies\": [                                                                           │\n",
       "│     {                                                                                    │\n",
       "│       \"name\": \"Spy\",                                                                     │\n",
       "│       \"type\": \"humanoid\",                                                                │\n",
       "│       \"ac\": 12,                                                                          │\n",
       "│       \"hp\": 27,                                                                          │\n",
       "│       \"cr\": 1.0                                                                          │\n",
       "│     },                                                                                   │\n",
       "│     {                                                                                    │\n",
       "│       \"name\": \"Veteran\",                                                                 │\n",
       "│       \"type\": \"humanoid\",                                                                │\n",
       "│       \"ac\": 17,                                                                          │\n",
       "│       \"hp\": 58,                                                                          │\n",
       "│       \"cr\": 3.0                                                                          │\n",
       "│     }                                                                                    │\n",
       "│   ],                                                                                     │\n",
       "│   \"tactics\": \"Strike from cover, withdraw to alleys; one scout runs to warn a veteran.\", │\n",
       "│   \"scaling_notes\": \"Add a Veteran at high end; remove a Spy at low end.\"                 │\n",
       "│ }                                                                                        │\n",
       "╰──────────────────────────────────────────────────────────────────────────────────────────╯\n"
      ]
     },
     "metadata": {},
     "output_type": "display_data"
    },
    {
     "data": {
      "text/html": [
       "<pre style=\"white-space:pre;overflow-x:auto;line-height:normal;font-family:Menlo,'DejaVu Sans Mono',consolas,'Courier New',monospace\">╭────────────────────── Treasure ──────────────────────╮\n",
       "│ {                                                    │\n",
       "│   \"hoard\": [                                         │\n",
       "│     {                                                │\n",
       "│       \"name\": \"Potion of Healing\",                   │\n",
       "│       \"type\": \"potion\",                              │\n",
       "│       \"rarity\": \"common\",                            │\n",
       "│       \"text\": \"Regain 2d4+2 HP when drunk.\"          │\n",
       "│     },                                               │\n",
       "│     {                                                │\n",
       "│       \"name\": \"Cloak of Elvenkind\",                  │\n",
       "│       \"type\": \"wondrous\",                            │\n",
       "│       \"rarity\": \"uncommon\",                          │\n",
       "│       \"text\": \"Advantage on Stealth checks to hide.\" │\n",
       "│     }                                                │\n",
       "│   ]                                                  │\n",
       "│ }                                                    │\n",
       "╰──────────────────────────────────────────────────────╯\n",
       "</pre>\n"
      ],
      "text/plain": [
       "╭────────────────────── Treasure ──────────────────────╮\n",
       "│ {                                                    │\n",
       "│   \"hoard\": [                                         │\n",
       "│     {                                                │\n",
       "│       \"name\": \"Potion of Healing\",                   │\n",
       "│       \"type\": \"potion\",                              │\n",
       "│       \"rarity\": \"common\",                            │\n",
       "│       \"text\": \"Regain 2d4+2 HP when drunk.\"          │\n",
       "│     },                                               │\n",
       "│     {                                                │\n",
       "│       \"name\": \"Cloak of Elvenkind\",                  │\n",
       "│       \"type\": \"wondrous\",                            │\n",
       "│       \"rarity\": \"uncommon\",                          │\n",
       "│       \"text\": \"Advantage on Stealth checks to hide.\" │\n",
       "│     }                                                │\n",
       "│   ]                                                  │\n",
       "│ }                                                    │\n",
       "╰──────────────────────────────────────────────────────╯\n"
      ]
     },
     "metadata": {},
     "output_type": "display_data"
    }
   ],
   "source": [
    "city = 'Baldur\\'s Gate'\n",
    "faction = 'Harpers'\n",
    "tier = 'Tier 1 (Levels 1–4)'\n",
    "cites = [p['rank'] for p in passages[:2]] if passages else [1]\n",
    "quest = make_quest(city, faction, tier, citations=cites)\n",
    "npc = make_npc('Mirael Thornquill', 'Harbor informant', faction, citations=cites)\n",
    "encounter = make_encounter(env='Foggy docks at midnight', cr_min=1.0, cr_max=3.0)\n",
    "treasure = make_treasure(rarity='uncommon', limit=4)\n",
    "rprint(Panel.fit(json.dumps(quest, indent=2), title='Quest'))\n",
    "rprint(Panel.fit(json.dumps(npc, indent=2), title='NPC'))\n",
    "rprint(Panel.fit(json.dumps(encounter, indent=2), title='Encounter'))\n",
    "rprint(Panel.fit(json.dumps(treasure, indent=2), title='Treasure'))\n"
   ]
  }
 ],
 "metadata": {
  "kernelspec": {
   "display_name": "Python 3 (ipykernel)",
   "language": "python",
   "name": "python3"
  },
  "language_info": {
   "codemirror_mode": {
    "name": "ipython",
    "version": 3
   },
   "file_extension": ".py",
   "mimetype": "text/x-python",
   "name": "python",
   "nbconvert_exporter": "python",
   "pygments_lexer": "ipython3",
   "version": "3.12.2"
  }
 },
 "nbformat": 4,
 "nbformat_minor": 5
}
